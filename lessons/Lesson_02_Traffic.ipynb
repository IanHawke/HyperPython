{
 "metadata": {
  "name": "",
  "signature": "sha256:5109d9d00656d1ea28c9e4db71d5552051d90faf65aa57128073904547834183"
 },
 "nbformat": 3,
 "nbformat_minor": 0,
 "worksheets": [
  {
   "cells": [
    {
     "cell_type": "raw",
     "metadata": {},
     "source": [
      "Content provided under a Creative Commons Attribution license, CC-BY 4.0; code under MIT License. (c)2014 David I. Ketcheson."
     ]
    },
    {
     "cell_type": "markdown",
     "metadata": {},
     "source": [
      "[David I. Ketcheson](http://davidketcheson.info)"
     ]
    },
    {
     "cell_type": "heading",
     "level": 5,
     "metadata": {},
     "source": [
      "version 0.1 - April 2014"
     ]
    },
    {
     "cell_type": "heading",
     "level": 1,
     "metadata": {},
     "source": [
      "Traffic flow"
     ]
    },
    {
     "cell_type": "markdown",
     "metadata": {},
     "source": [
      "In this lesson, we'll investigate a conservation law that models the flow of traffic.  This model is sometimes referred to as the Lighthill-Whitham-Richards or LWR traffic model.\n",
      "\n",
      "Recall the *continuity equation* from [Lesson 1](Lesson_01_Advection.ipynb):\n",
      "$$q_t + (q u)_x = 0.$$\n",
      "Now we will think of $q$ as the density of cars on a road, traveling with velocity $u$.  Note that we're not keeping track of the individual cars, but just of the average number of cars per unit length of road.  Thus $q=0$ represents an empty stretch of road, and we can choose the units so that $q=1$ represents bumper-to-bumper traffic.\n",
      "\n",
      "We'll also choose units so that the speed limit is $u_\\text{max}=1$, and assume that drivers never go faster than this (yeah, right!)  If we assume that drivers always travel at a single uniform velocity, we obtain once again the advection equation.  But we all know that's not accurate in practice -- cars go faster in light traffic and slower when there is congestion.  The simplest way to incorporate this effect is to make the velocity a linearly decreasing function of the density:\n",
      "$$u(q) = 1 - q.$$\n",
      "Notice that $u$ goes to zero as $q$ approaches the maximum density of 1, while $u$ goes to the maximum value of 1 as traffic density goes to zero."
     ]
    },
    {
     "cell_type": "code",
     "collapsed": false,
     "input": [
      "from IPython.display import Image\n",
      "Image(filename='../figures/LWR-Velocity.png')"
     ],
     "language": "python",
     "metadata": {},
     "outputs": []
    },
    {
     "cell_type": "markdown",
     "metadata": {},
     "source": [
      "Then our conservation law says\n",
      "$$q_t + (q (1-q))_x = 0.$$\n",
      "The function $q(1-q)$ is the flux, or the rate of flow of cars.  Notice how the flux is zero both when there are no cars and when the road is completely full.  The maximum flow of traffic actually occurs when the road is half full:"
     ]
    },
    {
     "cell_type": "code",
     "collapsed": false,
     "input": [
      "%matplotlib inline\n",
      "import matplotlib as mpl\n",
      "mpl.rcParams['font.size'] = 20\n",
      "import matplotlib.pyplot as plt\n",
      "import numpy as np\n",
      "\n",
      "q = np.linspace(0,1)\n",
      "f = q*(1.-q)\n",
      "ax, = plt.plot(q,f,linewidth=2)\n",
      "plt.xlabel('q'); plt.ylabel('flux'); "
     ],
     "language": "python",
     "metadata": {},
     "outputs": []
    },
    {
     "cell_type": "markdown",
     "metadata": {},
     "source": [
      "This equation is fundamentally different from the advection equation because the flux is **nonlinear**.  This fact will have dramatic consequences for both the behavior of solutions and our numerical methods.  But we can superficially make this equation look like the advection equation by using the chain rule to write \n",
      "$$f(q)_x = f'(q) q_x = (1-2q)q_x.$$\n",
      "Then we have\n",
      "$$q_t + (1-2q)q_x = 0.$$\n",
      "This is like the advection equation, but with a velocity $1-2q$ that depends on the density of cars.  The value $f'(q)=1-2q$ is referred to as the *characteristic speed*.  This characteristic speed is not the speed at which cars move (notice that it can even be negative!)  Rather, it is the speed at which *information* is transmitted along the road."
     ]
    },
    {
     "cell_type": "heading",
     "level": 2,
     "metadata": {},
     "source": [
      "Shock waves (traffic jams)"
     ]
    },
    {
     "cell_type": "markdown",
     "metadata": {},
     "source": [
      "Let's use the *Lax-Friedrichs method* from Lesson 1 to solve the LWR traffic model."
     ]
    },
    {
     "cell_type": "code",
     "collapsed": false,
     "input": [
      "import sys\n",
      "sys.path.append('../util')\n",
      "from ianimate import ianimate\n",
      "\n",
      "m = 100      # of points\n",
      "dx = 1./m   # Size of 1 grid cell\n",
      "x = np.arange(-dx/2, 1.+dx/2, dx)\n",
      "\n",
      "t = 0. # Initial time\n",
      "T = 0.5 # Final time\n",
      "dt = 0.9 * dx  # Time step\n",
      "\n",
      "U = 0.9*np.exp(-100*(x-0.5)**2)\n",
      "Unew = np.empty(U.shape)\n",
      "UU = [U]\n",
      "\n",
      "while t < T:\n",
      "    \n",
      "    Unew[1:-1] = 0.5*(U[:-2]+U[2:]) - 0.5*dt/dx * (U[2:]*(1-U[2:])-U[:-2]*(1-U[:-2]))\n",
      "    \n",
      "    U = Unew.copy()\n",
      "    U[0] = U[-2]\n",
      "    U[-1] = U[1]\n",
      "    t = t + dt\n",
      "    UU.append(U)\n",
      "    \n",
      "ianimate(x,UU)"
     ],
     "language": "python",
     "metadata": {},
     "outputs": []
    },
    {
     "cell_type": "markdown",
     "metadata": {},
     "source": [
      "Starting from an initially smooth distribution of cars, we see that the solution evolves into something discontinuous!  What's going on?\n",
      "\n",
      "Naturally, the cars in the low-density region behind the peak initially drive faster than the cars in the most congested region, ahead of them.  This leads to a steepening of the rear part of the traffic flow, and eventually there is a traffic jam: cars coming from the back have an open road, until suddenly they reach a highly congested area and must slam on the brakes.  Sound familiar?"
     ]
    },
    {
     "cell_type": "heading",
     "level": 3,
     "metadata": {},
     "source": [
      "Exercises"
     ]
    },
    {
     "cell_type": "markdown",
     "metadata": {},
     "source": [
      "1. In the cell below, set things up to find out what happens when cars reach a red light.  Place the red light at $x=1$ and set $q=1$ in the interval $0.8<x<1$ near the light (the cars will be stopped, bumper to bumper there).  In the rest of the domain, set $q=0.2$, corresponding to light traffic.  In the ghost cell at the right boundary, set $q=1$; in the ghost cell at the left set $q=0.2$.  After you have computed the solution, check it against your inuition.  Does it make sense?\n",
      "\n",
      "2. Now see what happens to traffic when a light turns green.  Set $q=1$ for $0<x<1/2$ and $q=0$ for $1/2<x<1$."
     ]
    },
    {
     "cell_type": "code",
     "collapsed": false,
     "input": [],
     "language": "python",
     "metadata": {},
     "outputs": []
    },
    {
     "cell_type": "heading",
     "level": 2,
     "metadata": {},
     "source": [
      "Speed of a shock wave: the Rankine Hugoniot conditions"
     ]
    },
    {
     "cell_type": "markdown",
     "metadata": {},
     "source": [
      "In the first exercise above, you should have seen a shock wave (i.e., a discontinuity) that moves to the left as more and more cars pile up behind the red light.  How quickly does this discontinuity move to the left?\n",
      "\n",
      "We can figure it out by putting an imaginary line at the location of the shock.  Let $q_l$ be the density of cars just to the left of the line, and let $q_r$ be the density of cars just to the right.  Imagine for a moment that the line is stationary.  Then the rate of cars reaching the line from the left is $f(q_l)$ and the rate of cars departing from the line to the right is $f(q_r)$.  If the line really were stationary, we would need to have $f(q_l)-f(q_r)=0$ to avoid cars accumulating at the line.\n",
      "\n",
      "However, the shock is not stationary, so the line is moving.  Let $s$ be the speed of the shock.  Then as the line moves to the left, some cars that were to the left are now to the right of the line.  The rate of cars removed from the left is $s q_l$ and the rate of cars added on the right is $s q_r$.  So in order to avoid an accumulation of cars at the shock, these two effects need to be balanced:\n",
      "$$f(q_l) - f(q_r) = s(q_l) - s(q_r).$$\n",
      "This condition is known as the **Rankine-Hugoniot condition**, and it holds for any shock wave in the solution of any hyperbolic system!"
     ]
    },
    {
     "cell_type": "heading",
     "level": 3,
     "metadata": {},
     "source": [
      "Exercise"
     ]
    },
    {
     "cell_type": "markdown",
     "metadata": {},
     "source": [
      "Use the Rankine-Hugoniot condition to determine the speed of the shock in the red-light example above.  Check it against the speed you observe.  Do they agree?  Try some other values for $q_r$ and $q_l$ and see if they agree."
     ]
    },
    {
     "cell_type": "markdown",
     "metadata": {},
     "source": [
      "*Should we do characteristics and rarefaction waves?*"
     ]
    },
    {
     "cell_type": "code",
     "collapsed": false,
     "input": [
      "from IPython.core.display import HTML\n",
      "def css_styling():\n",
      "    styles = open(\"../styles/custom.css\", \"r\").read()\n",
      "    return HTML(styles)\n",
      "css_styling()"
     ],
     "language": "python",
     "metadata": {},
     "outputs": []
    },
    {
     "cell_type": "code",
     "collapsed": false,
     "input": [],
     "language": "python",
     "metadata": {},
     "outputs": []
    }
   ],
   "metadata": {}
  }
 ]
}