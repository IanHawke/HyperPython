{
 "metadata": {
  "name": "",
  "signature": "sha256:f8d3f45cf09a2016e5d1656532b5b95255198887f65335178f9500ca638c5902"
 },
 "nbformat": 3,
 "nbformat_minor": 0,
 "worksheets": [
  {
   "cells": [
    {
     "cell_type": "code",
     "collapsed": false,
     "input": [
      "from IPython.core.display import HTML\n",
      "def css_styling():\n",
      "    styles = open(\"../styles/custom.css\", \"r\").read()\n",
      "    return HTML(styles)\n",
      "css_styling()"
     ],
     "language": "python",
     "metadata": {},
     "outputs": [
      {
       "html": [
        "<link href='http://fonts.googleapis.com/css?family=Alegreya+Sans:100,300,400,500,700,800,900,100italic,300italic,400italic,500italic,700italic,800italic,900italic' rel='stylesheet' type='text/css'>\n",
        "<link href='http://fonts.googleapis.com/css?family=Arvo:400,700,400italic' rel='stylesheet' type='text/css'>\n",
        "<link href='http://fonts.googleapis.com/css?family=PT+Mono' rel='stylesheet' type='text/css'>\n",
        "<link href='http://fonts.googleapis.com/css?family=Shadows+Into+Light' rel='stylesheet' type='text/css'>\n",
        "<link href='http://fonts.googleapis.com/css?family=Philosopher:400,700,400italic,700italic' rel='stylesheet' type='text/css'>\n",
        "\n",
        "<style>\n",
        "\n",
        "@font-face {\n",
        "    font-family: \"Computer Modern\";\n",
        "    src: url('http://mirrors.ctan.org/fonts/cm-unicode/fonts/otf/cmunss.otf');\n",
        "}\n",
        "\n",
        "#notebook_panel { /* main background */\n",
        "    background: #888;\n",
        "    color: #f6f6f6;\n",
        "}\n",
        "\n",
        "div #notebook { /* centre the content */\n",
        "    background: #fff;\n",
        "    color: #333;\n",
        "    width: 1000px;\n",
        "    margin: auto;\n",
        "    padding-left: 1em;\n",
        "    padding-right: 1em;\n",
        "    padding-top: 2ex;\n",
        "    overflow-x: auto;\n",
        "}\n",
        "\n",
        "#notebook li { /* More space between bullet points */\n",
        "margin-top:0.8em;\n",
        "}\n",
        "\n",
        "div.cell { /* set cell width to about 80 chars */\n",
        "    width: 800px;\n",
        "}\n",
        "\n",
        "div.cell.border-box-sizing.code_cell.running { \n",
        "    /* draw border around running cells */\n",
        "    border: 3px solid #111;\n",
        "}\n",
        "\n",
        "\n",
        "h1 {\n",
        "    font-family: 'Philosopher', sans-serif;\n",
        "}\n",
        "h2 {\n",
        "    font-family: 'Philosopher', serif;\n",
        "}\n",
        "h3{\n",
        "    font-family: 'Philosopher', serif;\n",
        "    font-style: 'italic';\n",
        "    margin-top:12px;\n",
        "    margin-bottom: 3px;\n",
        "}\n",
        "h4{\n",
        "    font-family: 'Philosopher', serif;\n",
        "}\n",
        "h5 {\n",
        "    font-family: 'Alegreya Sans', sans-serif;\n",
        "}\t\n",
        "h6 {\n",
        "    font-family: 'PT Mono', sans-serif;\n",
        "}\t\n",
        "\n",
        "div.text_cell_render{\n",
        "    font-family: 'Arvo' sans-serif;\n",
        "    line-height: 130%;\n",
        "    font-size: 115%;\n",
        "    width:700px;\n",
        "    margin-left:auto;\n",
        "    margin-right:auto;\n",
        "}\n",
        "\n",
        ".CodeMirror{\n",
        "        font-family: \"PT Mono\";\n",
        "                    font-size: 100%;\n",
        "            }\n",
        "\n",
        ".text_cell_render h1 {\n",
        "    font-weight: 400;\n",
        "    font-size: 64pt;\n",
        "    line-height: 100%;\n",
        "    color: rgb(12,85,97);\n",
        "    margin-bottom: 0.1em;\n",
        "    margin-top: 0.1em;\n",
        "    display: block;\n",
        "}\t\n",
        ".text_cell_render h2 {\n",
        "    font-weight: 700;\n",
        "    font-size: 24pt;\n",
        "    line-height: 100%;\n",
        "    color: rgb(171,165,131);\n",
        "    margin-bottom: 0.1em;\n",
        "    margin-top: 0.1em;\n",
        "    display: block;\n",
        "}\t\n",
        "\n",
        ".text_cell_render h3 {\n",
        "    font-style: italic;\n",
        "    color: rgb(95,92,72);\n",
        "}\n",
        "\n",
        ".text_cell_render h5 {\n",
        "    font-weight: 300;\n",
        "    font-size: 16pt;\n",
        "    color: grey;\n",
        "    font-style: italic;\n",
        "    margin-bottom: .1em;\n",
        "    margin-top: 0.1em;\n",
        "    display: block;\n",
        "}\n",
        "\n",
        ".text_cell_render h6 {\n",
        "    font-weight: 300;\n",
        "    font-size: 10pt;\n",
        "    color: grey;\n",
        "    margin-bottom: 1px;\n",
        "    margin-top: 1px;\n",
        "}\n",
        "div.cell.code_cell {  /* Group area containing both code and output */\n",
        "background-color: rgba(171,165,131,0.3); \n",
        "border-radius: 10px; /* rounded borders */\n",
        "padding: 1em;\n",
        "}\n",
        "\n",
        "</style>\n",
        "\n",
        "<script type=\"text/x-mathjax-config\">\n",
        "    MathJax.Hub.Config({\n",
        "                        TeX: {\n",
        "                           extensions: [\"AMSmath.js\"],\n",
        "                           Macros: {N : \"\\\\mathbb{N}\"}\n",
        "                           },\n",
        "                tex2jax: {\n",
        "                    inlineMath: [ ['$','$'], [\"\\\\(\",\"\\\\)\"] ],\n",
        "                    displayMath: [ ['$$','$$'], [\"\\\\[\",\"\\\\]\"] ]\n",
        "                },\n",
        "                displayAlign: 'center', // Change this to 'center' to center equations.\n",
        "                \"HTML-CSS\": {\n",
        "                    styles: {'.MathJax_Display': {margin: \"40em 40em 40em 40em\",line-height : '200%', border: '1px solid ##CC0000' } },\n",
        "                    linebreaks: {'automatic': 'true'}\n",
        "                }\n",
        "        });\n",
        "</script>\n"
       ],
       "metadata": {},
       "output_type": "pyout",
       "prompt_number": 1,
       "text": [
        "<IPython.core.display.HTML at 0x183ce10>"
       ]
      }
     ],
     "prompt_number": 1
    },
    {
     "cell_type": "heading",
     "level": 6,
     "metadata": {},
     "source": [
      "Content provided under a Creative Commons Attribution license, CC-BY 4.0; code under MIT License. (c)2014 [David I. Ketcheson](http://davidketcheson.info)"
     ]
    },
    {
     "cell_type": "heading",
     "level": 5,
     "metadata": {},
     "source": [
      "version 0.1 - May 2014"
     ]
    },
    {
     "cell_type": "heading",
     "level": 1,
     "metadata": {},
     "source": [
      "Traffic flow"
     ]
    },
    {
     "cell_type": "markdown",
     "metadata": {},
     "source": [
      "In this lesson, we'll investigate a conservation law that models the flow of traffic.  This model is sometimes referred to as the Lighthill-Whitham-Richards (or LWR) traffic model.\n",
      "\n",
      "Recall the continuity equation from [Lesson 1](Lesson_01_Advection.ipynb):\n",
      "\n",
      "$$q_t + (uq)_x = 0.$$\n",
      "\n",
      "Now we will think of $q$ as the density of cars on a road, traveling with velocity $u$.  Note that we're not keeping track of the individual cars, but just of the average number of cars per unit length of road.  Thus $q=0$ represents an empty stretch of road, and we can choose the units so that $q=1$ represents bumper-to-bumper traffic.\n",
      "\n",
      "We'll also choose units so that the speed limit is $u_\\text{max}=1$, and assume that drivers never go faster than this (yeah, right!)  If we assume that drivers always travel at a single uniform velocity, we obtain once again the advection equation.  But we all know that's not accurate in practice -- cars go faster in light traffic and slower when there is congestion.  The simplest way to incorporate this effect is to make the velocity a linearly decreasing function of the density:\n",
      "\n",
      "$$u(q) = 1 - q.$$\n",
      "\n",
      "Notice that $u$ goes to zero as $q$ approaches the maximum density of 1, while $u$ goes to the maximum value of 1 as traffic density goes to zero.  Obviously, both $q$ and $u$ should always stay in the interval $[0,1]$."
     ]
    },
    {
     "cell_type": "markdown",
     "metadata": {},
     "source": [
      "![](../figures/LWR-Velocity.png)"
     ]
    },
    {
     "cell_type": "markdown",
     "metadata": {},
     "source": [
      "Now our conservation law says\n",
      "\n",
      "$$q_t + (q (1-q))_x = 0.$$\n",
      "\n",
      "The function $q(1-q)$ is the flux, or the rate of flow of cars.  Notice how the flux is zero when there are no cars and also when the road is completely full.  The maximum flow of traffic actually occurs when the road is half full:"
     ]
    },
    {
     "cell_type": "code",
     "collapsed": false,
     "input": [
      "%matplotlib inline\n",
      "import matplotlib as mpl\n",
      "mpl.rcParams['font.size'] = 20\n",
      "import matplotlib.pyplot as plt\n",
      "import numpy as np\n",
      "\n",
      "q = np.linspace(0,1)\n",
      "f = q*(1.-q)\n",
      "plt.plot(q,f,linewidth=2)\n",
      "plt.xlabel('q'); plt.ylabel('flux'); "
     ],
     "language": "python",
     "metadata": {},
     "outputs": []
    },
    {
     "cell_type": "markdown",
     "metadata": {},
     "source": [
      "This equation is fundamentally different from the advection equation because the flux is **nonlinear**.  This fact will have dramatic consequences for both the behavior of solutions and our numerical methods.  But we can superficially make this equation look like the advection equation by using the chain rule to write\n",
      "\n",
      "$$f(q)_x = f'(q) q_x = (1-2q)q_x.$$\n",
      "\n",
      "Then we have\n",
      "\n",
      "$$q_t + (1-2q)q_x = 0.$$\n",
      "\n",
      "This is like the advection equation, but with a velocity $1-2q$ that depends on the density of cars.  The value $f'(q)=1-2q$ is referred to as the *characteristic speed*.  This characteristic speed is not the speed at which cars move (notice that it can even be negative!)  Rather, it is the speed at which *information* is transmitted along the road."
     ]
    },
    {
     "cell_type": "heading",
     "level": 2,
     "metadata": {},
     "source": [
      "Shock waves (traffic jams)"
     ]
    },
    {
     "cell_type": "markdown",
     "metadata": {},
     "source": [
      "Let's use the *Lax-Friedrichs method* from [Lesson 1](Lesson_01_Advection.ipynb) to solve the LWR traffic model."
     ]
    },
    {
     "cell_type": "code",
     "collapsed": false,
     "input": [
      "m = 400      # number of cells\n",
      "dx = 1./m   # Size of 1 grid cell\n",
      "x = np.arange(-dx/2, 1.+dx/2, dx)\n",
      "\n",
      "t = 0. # Initial time\n",
      "T = 0.5 # Final time\n",
      "dt = 0.9 * dx  # Time step\n",
      "\n",
      "Q = 0.9*np.exp(-100*(x-0.5)**2)\n",
      "Qnew = np.empty(Q.shape)\n",
      "QQ = [Q]\n",
      "\n",
      "while t < T:\n",
      "    \n",
      "    Qnew[1:-1] = 0.5*(Q[:-2]+Q[2:]) - 0.5*dt/dx * (Q[2:]*(1-Q[2:])-Q[:-2]*(1-Q[:-2]))\n",
      "    \n",
      "    Q = Qnew.copy()\n",
      "    Q[0] = Q[-2]\n",
      "    Q[-1] = Q[1]\n",
      "    t = t + dt\n",
      "    QQ.append(Q)"
     ],
     "language": "python",
     "metadata": {},
     "outputs": []
    },
    {
     "cell_type": "markdown",
     "metadata": {},
     "source": [
      "To plot the solution, we'll use a function that you can find in the `util` directory of the course."
     ]
    },
    {
     "cell_type": "code",
     "collapsed": false,
     "input": [
      "import sys\n",
      "sys.path.append('../util')\n",
      "from ianimate import ianimate\n",
      "\n",
      "ianimate(x,QQ)"
     ],
     "language": "python",
     "metadata": {},
     "outputs": []
    },
    {
     "cell_type": "markdown",
     "metadata": {},
     "source": [
      "Starting from an initially smooth distribution of cars, we see that the solution evolves into something discontinuous!  What's going on?\n",
      "\n",
      "Naturally, the cars in the low-density region behind the peak initially drive faster than the cars in the most congested region, ahead of them.  This leads to a steepening of the rear part of the traffic flow, and eventually there is a traffic jam: cars coming from the back have an open road, until suddenly they reach a highly congested area and must slam on the brakes.  Sound familiar?"
     ]
    },
    {
     "cell_type": "heading",
     "level": 3,
     "metadata": {},
     "source": [
      "Exercises"
     ]
    },
    {
     "cell_type": "markdown",
     "metadata": {},
     "source": [
      "1. Recall our discussion of the CFL condition for advection.  To apply the CFL condition to a nonlinear problem, we use the characteristic velocity (in this case $1-2q$) in place of the velocity $a$.  For this problem, how large can we take the time step without violating the CFL condition? \n",
      "\n",
      "1. In the cell below, set things up to find out what happens when cars reach a red light.  Place the red light at $x=1$ and set $q=1$ in the interval $0.8<x<1$ near the light (the cars will be stopped, bumper to bumper there).  In the rest of the domain, set $q=0.2$, corresponding to light traffic.  In the ghost cell at the right boundary, set $q=1$; in the ghost cell at the left set $q=0.2$.  After you have computed the solution, check it against your inuition.  Does it make sense?\n",
      "\n",
      "2. Now see what happens to traffic when a light turns green.  Set $q=1$ for $0<x<1/2$ and $q=0$ for $1/2<x<1$."
     ]
    },
    {
     "cell_type": "code",
     "collapsed": false,
     "input": [],
     "language": "python",
     "metadata": {},
     "outputs": []
    },
    {
     "cell_type": "heading",
     "level": 2,
     "metadata": {},
     "source": [
      "Speed of a shock wave: the Rankine-Hugoniot conditions"
     ]
    },
    {
     "cell_type": "markdown",
     "metadata": {},
     "source": [
      "In the second exercise above, you should have seen a shock wave (i.e., a discontinuity) that moves to the left as more and more cars pile up behind the red light.  How quickly does this discontinuity move to the left?\n",
      "\n",
      "We can figure it out by putting an imaginary line at the location of the shock.  Let $q_l$ be the density of cars just to the left of the line, and let $q_r$ be the density of cars just to the right.  Imagine for a moment that the line is stationary.  Then the rate of cars reaching the line from the left is $f(q_l)$ and the rate of cars departing from the line to the right is $f(q_r)$.  If the line really were stationary, we would need to have $f(q_l)-f(q_r)=0$ to avoid cars accumulating at the line.\n",
      "\n",
      "However, the shock is not stationary, so the line is moving.  Let $s$ be the speed of the shock.  Then as the line moves to the left, some cars that were to the left are now to the right of the line.  The rate of cars removed from the left is $s q_l$ and the rate of cars added on the right is $s q_r$.  So in order to avoid an accumulation of cars at the shock, these two effects need to be balanced:\n",
      "\n",
      "$$f(q_l) - f(q_r) = s(q_l - q_r).$$\n",
      "\n",
      "This condition is known as the **Rankine-Hugoniot condition**, and it holds for any shock wave in the solution of any hyperbolic system!"
     ]
    },
    {
     "cell_type": "heading",
     "level": 3,
     "metadata": {},
     "source": [
      "Exercise"
     ]
    },
    {
     "cell_type": "markdown",
     "metadata": {},
     "source": [
      "Use the Rankine-Hugoniot condition to determine the speed of the shock in the red-light example above.  Check it against the speed you observe.  Do they agree?  Try some other values for $q_r$ and $q_l$ and see if they agree."
     ]
    },
    {
     "cell_type": "heading",
     "level": 2,
     "metadata": {},
     "source": [
      "Rarefaction waves"
     ]
    },
    {
     "cell_type": "markdown",
     "metadata": {},
     "source": [
      "Why didn't we see a shock wave in the third exercise above?  Initially, the solution is discontinuous, but after time zero it becomes continuous.\n",
      "\n",
      "Physically, the reason is clear: after the light turns green, the cars in front accelerate and spread out; then the cars behind them accelerate, and so forth.  This kind of expansion wave is referred to as a *rarefaction wave* by analogy to fluid dynamics.\n",
      "\n",
      "How can we determine whether an initial discontinuity will lead to a shock or a rarefaction?\n",
      "- Shocks appear in regions where characteristics overlap\n",
      "- Rarefactions appear in regions where characteristics are spreading out\n",
      "\n",
      "More precisely, if the value to the left of a shock is $q_l$ and the value to the right is $q_r$, then it must be that $f'(q_l)>f'(q_r)$.  In fact the shock speed must lie between these characteristic speeds:\n",
      "\n",
      "$$f'(q_l) > s > f'(q_r).$$\n",
      "\n",
      "We say that the characteristics *impinge* on the shock.  This is known as the *entropy condition*, because in fluid dynamics such a shock obeys the 2nd law of thermodynamics.\n",
      "\n",
      "On the other hand, if $f'(q_l)< f'(q_r)$, then a rarefaction wave results."
     ]
    },
    {
     "cell_type": "heading",
     "level": 2,
     "metadata": {},
     "source": [
      "The Riemann problem"
     ]
    },
    {
     "cell_type": "markdown",
     "metadata": {},
     "source": [
      "The problems you set up in the red and green light exercises above are examples of what is known as a Riemann problem.  A Riemann problem consists of  a hyperbolic conservation law, together with piecewise-constant initial data with a single point of discontinuity:\n",
      "\n",
      "$$q(x,0) = \\begin{cases} q_l & x < x_0 \\\\ q_r & x > x_0 \\end{cases}$$\n",
      "\n",
      "In fact, our entire finite volume method is built on approximately solving Riemann problems.  Since the solution is approximated by a constant function in each cell, a Riemann problem arises at each interface between two cells.  The upwind method for advection is based on exactly solving the Riemann problem to find the flux (of course, the Riemann problem for advection is extremely simple to solve).  The Lax-Friedrichs flux is based on approximating the solution to the Riemann problem.\n",
      "\n",
      "For nonlinear systems of hyperbolic PDEs, like the Euler equations that well study in [Lesson 4](Lesson_04_Fluid_dynamics.ipynb), the solution of the Riemann problem can be quite complicated.  Computational methods for solving such systems are usually based on approximate Riemann solvers.  We won't go into the theory of Riemann problems or approximate Riemann solvers in this course."
     ]
    }
   ],
   "metadata": {}
  }
 ]
}