{
 "metadata": {
  "name": "",
  "signature": "sha256:c2bd2c429e57edf9adbe92b012ef10b8d7ddfc1ab98fd208afb3dcdc3cb48b1e"
 },
 "nbformat": 3,
 "nbformat_minor": 0,
 "worksheets": [
  {
   "cells": [
    {
     "cell_type": "raw",
     "metadata": {},
     "source": [
      "Content provided under a Creative Commons Attribution license, CC-BY 4.0; code under MIT License. (c)2014 David I. Ketcheson."
     ]
    },
    {
     "cell_type": "markdown",
     "metadata": {},
     "source": [
      "[David I. Ketcheson](http://davidketcheson.info)"
     ]
    },
    {
     "cell_type": "heading",
     "level": 5,
     "metadata": {},
     "source": [
      "version 0.1 - April 2014"
     ]
    },
    {
     "cell_type": "heading",
     "level": 1,
     "metadata": {},
     "source": [
      "A traffic flow model"
     ]
    },
    {
     "cell_type": "markdown",
     "metadata": {},
     "source": [
      "In this lesson, we'll investigate a much more interesting conservation law, used for modeling the flow of traffic.  This model is sometimes referred to as the Lighthill-Whitham-Richards or LWR traffic model.\n",
      "\n",
      "Recall the *continuity equation* from [Lesson 1](Lesson_01_Advection.ipynb):\n",
      "$$q_t + (q u)_x = 0.$$\n",
      "Now we will think of $q$ as the density of cars on a road, traveling with velocity $u$.  Note that we're not keeping track of the individual cars, but just of the average number of cars per unit length of road.  Thus $q=0$ represents an empty stretch of road, and we can choose the units so that $q=1$ represents bumper-to-bumper traffic.\n",
      "\n",
      "We'll also choose units so that the speed limit is $u_\\text{max}=1$, and assume that drivers never go faster than this (yeah, right!)  If we assume that drivers always travel at a single uniform velocity, we obtain once again the advection equation.  But we all know that's not accurate in practice -- cars go faster in light traffic and slower when there is congestion.  The simplest way to incorporate this effect is to make the velocity a linearly decreasing function of the density $q$:\n",
      "$$u(q) = 1 - q.$$\n",
      "Notice that $u$ goes to zero as $q$ approaches the maximum density of 1, while $u$ goes to the maximum value of 1 as traffic density goes to zero.\n",
      "\n",
      "Then our conservation law says\n",
      "$$q_t + (q (1-q))_x = 0.$$\n"
     ]
    },
    {
     "cell_type": "markdown",
     "metadata": {},
     "source": [
      "This equation is fundamentally different from the advection equation: the flux $f(q)=q-q^2$ is *nonlinear*.  This fact will have dramatic consequences for both the exact solution and our numerical methods.  But we can superficially make this equation look like the advection equation by using the chain rule to write $f(q)_x = f'(q) q_x = (1-2q)q_x.$  Then we have\n",
      "$$q_t + (1-2q)q_x = 0.$$\n",
      "This is like the advection equation, but with a velocity $1-2q$ that depends on the value of the solution.  The value $f'(q)=1-2q$ is referred to as the *characteristic speed*.\n"
     ]
    },
    {
     "cell_type": "markdown",
     "metadata": {},
     "source": [
      "Let's use the *Lax-Friedrichs method* from Lesson 1 to solve the LWR traffic model."
     ]
    },
    {
     "cell_type": "code",
     "collapsed": false,
     "input": [
      "# Stop light\n",
      "# Traffic jam\n",
      "# Others?"
     ],
     "language": "python",
     "metadata": {},
     "outputs": [],
     "prompt_number": 1
    },
    {
     "cell_type": "heading",
     "level": 2,
     "metadata": {},
     "source": [
      "Shock waves (traffic jams)"
     ]
    },
    {
     "cell_type": "markdown",
     "metadata": {},
     "source": []
    },
    {
     "cell_type": "heading",
     "level": 2,
     "metadata": {},
     "source": [
      "Speed of a shock wave: the Rankine Hugoniot conditions"
     ]
    },
    {
     "cell_type": "markdown",
     "metadata": {},
     "source": []
    }
   ],
   "metadata": {}
  }
 ]
}