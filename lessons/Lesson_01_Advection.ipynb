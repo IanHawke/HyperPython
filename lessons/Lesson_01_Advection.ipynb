{
 "metadata": {
  "name": "",
  "signature": "sha256:febc1b673745357097f3806b403b1c46d4e235f7524573f493d6b25f94dd489d"
 },
 "nbformat": 3,
 "nbformat_minor": 0,
 "worksheets": [
  {
   "cells": [
    {
     "cell_type": "raw",
     "metadata": {},
     "source": [
      "Content provided under a Creative Commons Attribution license, CC-BY 4.0; code under MIT License. (c)2014 David I. Ketcheson."
     ]
    },
    {
     "cell_type": "markdown",
     "metadata": {},
     "source": [
      "[David I. Ketcheson](http://davidketcheson.info)"
     ]
    },
    {
     "cell_type": "heading",
     "level": 5,
     "metadata": {},
     "source": [
      "version 0.1 - April 2014"
     ]
    },
    {
     "cell_type": "heading",
     "level": 1,
     "metadata": {},
     "source": [
      "Advection"
     ]
    },
    {
     "cell_type": "markdown",
     "metadata": {},
     "source": [
      "Many models of wave phenomena are governed by *hyperbolic conservation laws*.  In this short course, we will learn about hyperbolic conservation laws and their numerical solution."
     ]
    },
    {
     "cell_type": "heading",
     "level": 2,
     "metadata": {},
     "source": [
      "Conservation of mass"
     ]
    },
    {
     "cell_type": "markdown",
     "metadata": {},
     "source": [
      "Imagine a fluid flowing in a narrow tube.  We'll use $\\rho$ to indicate the density of the fluid and $u$ to indicate its velocity.  Both of these are functions of space and time: $\\rho = \\rho(x,t)$; $u=u(x,t)$.  The total mass in the section of tube $[x_1,x_2]$ is\n",
      "$$\\int_{x_1}^{x_2} \\rho(x,t) dx.$$\n",
      "This total mass can change in time due to fluid flowing in or out of this section of the tube.  We call the rate of flow the *flux*, and represent it with the function $f(x,t)$.  Thus the net rate of flow of mass into (or out of) the interval $[x_1,x_2]$ at time $t$ is\n",
      "$$f(x_1,t) - f(x_2,t).$$\n",
      "We just said that this rate of flow must equal the time rate of change of total mass; i.e.\n",
      "$$\\frac{d}{dt} \\int_{x_1}^{x_2} \\rho(x,t) dx = f(x_1,t) - f(x_2,t).$$\n",
      "Now since $\\int_{x_1}^{x_2} \\frac{\\partial}{\\partial x} f(x,t) dx = f(x_2,t) - f(x_1,t)$, we can rewrite this as\n",
      "$$\\frac{d}{dt} \\int_{x_1}^{x_2} \\rho(x,t) dx = -\\int_{x_1}^{x_2} \\frac{\\partial}{\\partial x} f(x,t) dx.$$\n",
      "Under certain smoothness assumptions on $\\rho$, we can move the time derivative inside the integral.  We'll also put everything on the left side, to obtain\n",
      "$$\\int_{x_1}^{x_2} \\left(\\frac{\\partial}{\\partial t}\\rho(x,t) + \\frac{\\partial}{\\partial x} f(x,t)\\right) dx = 0.$$\n",
      "Since this integral is zero for *any* choice of $x_1,x_2$, it must be that the integrand (the expression in parentheses) is actually zero *everywhere*!  Therefore we can write the **differential conservation law**\n",
      "$$\\rho_t + f_x = 0.$$\n",
      "Here and throughout the rest of the course, we use subscripts to denote partial derivatives.\n",
      "This equation expresses the fact that the total mass is conserved -- since locally the mass can change only due to a net inflow or outflow."
     ]
    },
    {
     "cell_type": "heading",
     "level": 2,
     "metadata": {},
     "source": [
      "Advection"
     ]
    },
    {
     "cell_type": "markdown",
     "metadata": {},
     "source": [
      "In order to solve the conservation law above, we need an expression for the flux, $f$.  The rate of mass flow past $x$ at time $t$ is given by $f=\\rho(x,t) u(x,t)$.  Thus we obtain the **continuity equation**\n",
      "$$\\rho_t + (\\rho u)_x = 0.$$\n",
      "In general, we need another equation to determine the velocity $u(x,t)$.  Let's consider the simplest case, in which all of the fluid flows at a single, constant velocity $u(x,t)=a$.  Then the continuity equation becomes the **advection equation**\n",
      "$$\\rho_t + a u_x = 0.$$\n",
      "This equation has a very simple solution.  If we are given the density $\\rho(x,0)=\\rho_0(x)$ at time zero, then the solution is just\n",
      "$$\\rho(x,t) = \\rho_0(x-at).$$"
     ]
    },
    {
     "cell_type": "markdown",
     "metadata": {},
     "source": [
      "Let's plot the solution of the advection equation on the interval $[0,1]$ for the initial condition\n",
      "$$\\rho_0(x) = e^{-2(x-1/2)^2}.$$\n",
      "For now, don't worry about understanding all of the plotting code below.  Just play with the animation until you have a feel for how the solution behaves."
     ]
    },
    {
     "cell_type": "code",
     "collapsed": false,
     "input": [
      "import numpy as np\n",
      "import matplotlib.pyplot as plt\n",
      "%matplotlib inline\n",
      "\n",
      "from IPython.html.widgets import interact, interactive, fixed\n",
      "from IPython.html import widgets\n",
      "from IPython.display import clear_output, display, HTML\n",
      "\n",
      "def rho_0(x):\n",
      "    return np.exp(-200.*(x-0.2)**2)\n",
      "\n",
      "def advection(t,a=1.0):\n",
      "    x = np.linspace(0,1,1000)\n",
      "    plt.plot(x,rho_0(x-a*t))\n",
      "    plt.axis((0,1,-0.1,1.1))\n",
      "    \n",
      "i = interact(advection,\n",
      "         t=(0,1,0.05),\n",
      "         a=(1,3,1))"
     ],
     "language": "python",
     "metadata": {},
     "outputs": []
    },
    {
     "cell_type": "markdown",
     "metadata": {},
     "source": [
      "As you can see, the initial pulse just moves to the right at speed $a$ as time advances.  This isn't very interesting, but it captures the most important feature of hyperbolic equations: waves travel at finite speed."
     ]
    },
    {
     "cell_type": "heading",
     "level": 2,
     "metadata": {},
     "source": [
      "A finite volume method for advection"
     ]
    },
    {
     "cell_type": "markdown",
     "metadata": {},
     "source": [
      "We can easily solve the advection equation exactly.  But the advection equation is a prototype for more complicated conservation laws that we will only be able to approximate using numerical methods.  In order to better understand these methods, we will discuss them first in the context of the simple advection equation."
     ]
    },
    {
     "cell_type": "markdown",
     "metadata": {},
     "source": [
      "$$\n",
      "\\newcommand{Dx}{h}\n",
      "\\newcommand{imh}{{i-1/2}}\n",
      "\\newcommand{iph}{{i+1/2}}\n",
      "$$\n",
      "\n",
      "For simplicity, we'll suppose that we wish to solve the advection equation on the interval $[0,1]$.  We introduce a set of equally spaced *grid cells* of width $\\Dx$, and write $x_i$ to mean the center of cell $i$.  Thus the first cell is the interval $[0,\\Dx]$ and $x_1=\\Dx/2$.  We will also write $x_\\imh$ or $x_\\iph$ to denote the left or right boundary of cell $i$, respectively. (picture)\n",
      "\n",
      "We write $Q_i$ to denote the *average* value of the solution over cell $i$:\n",
      "$$Q_i = \\frac{1}{\\Dx} \\int_{x_\\imh}^{x_\\iph} q \\ dx.$$\n",
      "The simplest finite volume method is obtained by supposing that the solution is actually *equal* to $Q_i$ over all of cell $i$. (picture)\n",
      "\n",
      "Suppose $a>0$.  Then the flux into cell $i$ from the left is $a Q_{i-1}$ and the flux out of cell $i$ to the right is $a Q_i$.  Then our integral conservation law reads\n",
      "$$Q_i'(t) = -\\frac{a}{\\Dx}\\left(Q_i - Q_{i-1}\\right).$$\n",
      "Applying a forward difference in time we obtain the *upwind method*\n",
      "$$Q^{n+1}_i = Q^n_i -\\frac{a}{\\Dx}\\left(Q_i - Q_{i-1}\\right).$$\n",
      "Let's write a bit of Python code to solve the advection equation using the upwind method."
     ]
    },
    {
     "cell_type": "code",
     "collapsed": false,
     "input": [
      "a = 1.0\n",
      "\n",
      "m = 50      # of points\n",
      "dx = 1./m   # Size of 1 grid cell\n",
      "x = np.arange(-dx/2, 1.-dx/2, dx)\n",
      "\n",
      "t = 0. # Initial time\n",
      "T = 0.5 # Final time\n",
      "dt = 1.5 * dx / a  # Time step\n",
      "\n",
      "U = np.exp(-200*(x-0.2)**2)\n",
      "Unew = np.empty(U.shape)\n",
      "while t < T:\n",
      "    \n",
      "    Unew[0] = 0.\n",
      "    for i in range(1,len(x)):\n",
      "        Unew[i] = U[i] - a*dt/dx * (U[i]-U[i-1])\n",
      "    \n",
      "    U = Unew.copy()\n",
      "    t = t + dt\n",
      "    \n",
      "plt.plot(x,U,linewidth = 2)\n",
      "plt.title('t = '+str(t))"
     ],
     "language": "python",
     "metadata": {},
     "outputs": []
    },
    {
     "cell_type": "heading",
     "level": 3,
     "metadata": {},
     "source": [
      "Exercise"
     ]
    },
    {
     "cell_type": "markdown",
     "metadata": {},
     "source": [
      "Now do the following with the code above:\n",
      "\n",
      "1. Set $m=1000$ or more and notice that it takes some time to compute the solution.  Rewrite the inner loop (over $i$) as a single line with no loop, using numpy slicing.  For large values of $m$, the code with slicing is much faster.\n",
      "1. Notice that the last step of the simulation goes past time $T$.  Modify the code so that the last step is adjusted to exactly reach $T$.\n",
      "2. Change the code so that animation of the solution versus time is plotted.  You will want to accumulate frames of the solution in a list and then use the same kind of code we used above to animate the exact solution.\n",
      "3. Add some code to plot the exact solution.\n",
      "\n",
      "*Extra credit*: change the left boundary condition so that there is a sinusoidal wave coming in from the left:\n",
      "$$u(0,t) = \\sin(t).$$"
     ]
    },
    {
     "cell_type": "markdown",
     "metadata": {},
     "source": [
      "After making it through the exercise above, you should feel pretty comfortable with the basics of scientific programming in Python."
     ]
    },
    {
     "cell_type": "heading",
     "level": 3,
     "metadata": {},
     "source": [
      "Accuracy"
     ]
    },
    {
     "cell_type": "markdown",
     "metadata": {},
     "source": [
      "The upwind method is simple, but it is not very accurate.  Notice how the computed solution becomes wider and shorter compared to the exact solution.  This behavior is referred to as *dissipation*."
     ]
    },
    {
     "cell_type": "heading",
     "level": 2,
     "metadata": {},
     "source": [
      "The CFL condition"
     ]
    },
    {
     "cell_type": "markdown",
     "metadata": {},
     "source": [
      "Take a look at the line of code that sets the time step:\n",
      "```python\n",
      "    dt = 0.8 * dx / a \n",
      "```\n",
      "You might be wondering where the number `0.8` came from.  Rearranging that equation, we have\n",
      "$$0.8 = a \\frac{\\Delta t}{\\Delta x}.$$\n",
      "The quantity $\\nu = a \\frac{\\Delta t}{\\Delta x}$ is the distance the exact solution moves during each time step, in units of grid cells.  It is referred to as the *CFL number* or just the *Courant number* after the authors Courant, Friedrichs and Lewy who established its importance.  Try the following values of $\\nu$ in the code above, and compare the results with those you obtained already using $\\nu=0.8$.\n",
      "1. $\\nu = 1.0$\n",
      "2. $\\nu = 1.5$\n",
      "3. $\\nu = 0.1$"
     ]
    },
    {
     "cell_type": "code",
     "collapsed": false,
     "input": [],
     "language": "python",
     "metadata": {},
     "outputs": []
    },
    {
     "cell_type": "code",
     "collapsed": false,
     "input": [
      "from IPython.core.display import HTML\n",
      "def css_styling():\n",
      "    styles = open(\"../styles/custom.css\", \"r\").read()\n",
      "    return HTML(styles)\n",
      "css_styling()"
     ],
     "language": "python",
     "metadata": {},
     "outputs": [
      {
       "html": [
        "<link href='http://fonts.googleapis.com/css?family=Alegreya+Sans:100,300,400,500,700,800,900,100italic,300italic,400italic,500italic,700italic,800italic,900italic' rel='stylesheet' type='text/css'>\n",
        "<link href='http://fonts.googleapis.com/css?family=Droid+Serif:400,700,400italic,700italic' rel='stylesheet' type='text/css'>\n",
        "<link href='http://fonts.googleapis.com/css?family=Arvo:400,700,400italic' rel='stylesheet' type='text/css'>\n",
        "<link href='http://fonts.googleapis.com/css?family=PT+Mono' rel='stylesheet' type='text/css'>\n",
        "<link href='http://fonts.googleapis.com/css?family=Shadows+Into+Light' rel='stylesheet' type='text/css'>\n",
        "<link href='http://fonts.googleapis.com/css?family=Philosopher:400,700,400italic,700italic' rel='stylesheet' type='text/css'>\n",
        "<link href='http://fonts.googleapis.com/css?family=Alegreya+Sans+SC:300,400,700,700italic' rel='stylesheet' type='text/css'>\n",
        "<link href='http://fonts.googleapis.com/css?family=Archivo+Narrow:400,400italic,700,700italic' rel='stylesheet' type='text/css'>\n",
        "\n",
        "<style>\n",
        "\n",
        "@font-face {\n",
        "    font-family: \"Computer Modern\";\n",
        "    src: url('http://mirrors.ctan.org/fonts/cm-unicode/fonts/otf/cmunss.otf');\n",
        "}\n",
        "\n",
        "#notebook_panel { /* main background */\n",
        "    background: #333;\n",
        "    color: #f6f6f6;\n",
        "}\n",
        "\n",
        "div #notebook { /* centre the content */\n",
        "    background: #fff;\n",
        "    color: #333;\n",
        "    width: 900px;\n",
        "    margin: auto;\n",
        "    padding-left: 1em;\n",
        "    padding-right: 1em;\n",
        "    padding-top: 2ex;\n",
        "}\n",
        "\n",
        "div.cell { /* set cell width to about 80 chars */\n",
        "    width: 800px;\n",
        "}\n",
        "\n",
        "h1 {\n",
        "    font-family: 'Philosopher', sans-serif;\n",
        "}\n",
        "h2 {\n",
        "    font-family: 'Philosopher', serif;\n",
        "}\n",
        "h3{\n",
        "            font-family: 'Philosopher', serif;\n",
        "            font-style: 'italic';\n",
        "    margin-top:12px;\n",
        "    margin-bottom: 3px;\n",
        "   }\n",
        "    h4{\n",
        "            font-family: 'Philosopher', serif;\n",
        "   }\n",
        "h5 {\n",
        "    font-family: 'Alegreya Sans', sans-serif;\n",
        "}\t\n",
        "\n",
        "div.text_cell_render{\n",
        "    font-family: 'Arvo' sans-serif;\n",
        "    line-height: 150%;\n",
        "    font-size: 125%;\n",
        "    width:600px;\n",
        "    margin-left:auto;\n",
        "    margin-right:auto;\n",
        "}\n",
        "\n",
        ".CodeMirror{\n",
        "        font-family: \"PT Mono\";\n",
        "                    font-size: 100%;\n",
        "            }\n",
        "\n",
        ".text_cell_render h1 {\n",
        "    font-weight: 400;\n",
        "    font-size: 80pt;\n",
        "    line-height: 100%;\n",
        "    color: rgb(12,85,97);\n",
        "    margin-bottom: 0.5em;\n",
        "    margin-top: 0.5em;\n",
        "    display: block;\n",
        "}\t\n",
        ".text_cell_render h2 {\n",
        "    font-weight: 700;\n",
        "    font-size: 24pt;\n",
        "    line-height: 100%;\n",
        "    color: rgb(171,165,131);\n",
        "    margin-bottom: 0.1em;\n",
        "    margin-top: 0.1em;\n",
        "    display: block;\n",
        "}\t\n",
        "\n",
        ".text_cell_render h3 {\n",
        "    font-style: italic;\n",
        "    color: rgb(95,92,72);\n",
        "}\n",
        "\n",
        ".text_cell_render h5 {\n",
        "    font-weight: 300;\n",
        "    font-size: 16pt;\n",
        "    color: grey;\n",
        "    font-style: italic;\n",
        "    margin-bottom: .5em;\n",
        "    margin-top: 0.5em;\n",
        "    display: block;\n",
        "}\n",
        "</style>\n",
        "\n",
        "<script>\n",
        "    MathJax.Hub.Config({\n",
        "                        TeX: {\n",
        "                           extensions: [\"AMSmath.js\"]\n",
        "                           },\n",
        "                tex2jax: {\n",
        "                    inlineMath: [ ['$','$'], [\"\\\\(\",\"\\\\)\"] ],\n",
        "                    displayMath: [ ['$$','$$'], [\"\\\\[\",\"\\\\]\"] ]\n",
        "                },\n",
        "                displayAlign: 'center', // Change this to 'center' to center equations.\n",
        "                \"HTML-CSS\": {\n",
        "                    styles: {'.MathJax_Display': {\"margin\": 40}}\n",
        "                }\n",
        "        });\n",
        "</script>\n"
       ],
       "metadata": {},
       "output_type": "pyout",
       "prompt_number": 118,
       "text": [
        "<IPython.core.display.HTML object>"
       ]
      }
     ],
     "prompt_number": 118
    },
    {
     "cell_type": "code",
     "collapsed": false,
     "input": [],
     "language": "python",
     "metadata": {},
     "outputs": []
    }
   ],
   "metadata": {}
  }
 ]
}
