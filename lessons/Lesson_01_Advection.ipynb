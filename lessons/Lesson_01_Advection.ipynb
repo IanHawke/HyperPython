{
 "metadata": {
  "name": "",
  "signature": "sha256:846631c8abd4ec39b41d83f327aafcb74cbbdd9df4595c44bcf1f4d83a6e4b74"
 },
 "nbformat": 3,
 "nbformat_minor": 0,
 "worksheets": [
  {
   "cells": [
    {
     "cell_type": "raw",
     "metadata": {},
     "source": [
      "Content provided under a Creative Commons Attribution license, CC-BY 4.0; code under MIT License. (c)2014 David I. Ketcheson."
     ]
    },
    {
     "cell_type": "markdown",
     "metadata": {},
     "source": [
      "[David I. Ketcheson](http://davidketcheson.info)"
     ]
    },
    {
     "cell_type": "heading",
     "level": 5,
     "metadata": {},
     "source": [
      "version 0.1 - April 2014"
     ]
    },
    {
     "cell_type": "heading",
     "level": 2,
     "metadata": {},
     "source": [
      "Overview"
     ]
    },
    {
     "cell_type": "markdown",
     "metadata": {},
     "source": [
      "Many models of wave phenomena are governed by *hyperbolic conservation laws*.  In this short course, we will learn about hyperbolic conservation laws and their numerical solution."
     ]
    },
    {
     "cell_type": "heading",
     "level": 2,
     "metadata": {},
     "source": [
      "Conservation of mass"
     ]
    },
    {
     "cell_type": "markdown",
     "metadata": {},
     "source": [
      "Imagine a fluid flowing in a narrow tube.  We'll use $\\rho$ to indicate the density of the fluid and $u$ to indicate its velocity.  Both of these are functions of space and time: $\\rho = \\rho(x,t)$; $u=u(x,t)$.  The total mass in the section of tube $[x_1,x_2]$ is\n",
      "$$\\int_{x_1}^{x_2} \\rho(x,t) dx.$$\n",
      "This total mass can change in time due to fluid flowing in or out of this section of the tube.  We call the rate of flow the *flux*, and represent it with the function $f(x,t)$.  Thus the net rate of flow of mass into (or out of) the interval $[x_1,x_2]$ at time $t$ is\n",
      "$$f(x_1,t) - f(x_2,t).$$\n",
      "We just said that this rate of flow must equal the time rate of change of total mass; i.e.\n",
      "$$\\frac{d}{dt} \\int_{x_1}^{x_2} \\rho(x,t) dx = f(x_1,t) - f(x_2,t).$$\n",
      "Now since $\\int_{x_1}^{x_2} \\frac{\\partial}{\\partial x} f(x,t) dx = f(x_2,t) - f(x_1,t)$, we can rewrite this as\n",
      "$$\\frac{d}{dt} \\int_{x_1}^{x_2} \\rho(x,t) dx = -\\int_{x_1}^{x_2} \\frac{\\partial}{\\partial x} f(x,t) dx.$$\n",
      "Under certain smoothness assumptions on $\\rho$, we can move the time derivative inside the integral.  We'll also put everything on the left side, to obtain\n",
      "$$\\int_{x_1}^{x_2} \\left(\\frac{\\partial}{\\partial t}\\rho(x,t) + \\frac{\\partial}{\\partial x} f(x,t)\\right) dx = 0.$$\n",
      "Since this integral is zero for *any* choice of $x_1,x_2$, it must be that the integrand (the expression in parentheses) is actually zero *everywhere*!  Therefore we can write the **differential conservation law**\n",
      "$$\\rho_t + f_x = 0.$$\n",
      "Here and throughout the rest of the course, we use subscripts to denote partial derivatives.\n",
      "This equation expresses the fact that the total mass is conserved -- since locally the mass can change only due to a net inflow or outflow."
     ]
    },
    {
     "cell_type": "heading",
     "level": 2,
     "metadata": {},
     "source": [
      "Advection"
     ]
    },
    {
     "cell_type": "markdown",
     "metadata": {},
     "source": [
      "In order to solve the conservation law above, we need an expression for the flux, $f$.  The rate of mass flow past $x$ at time $t$ is given by $f=\\rho(x,t) u(x,t)$.  Thus we obtain the **continuity equation**\n",
      "$$\\rho_t + (\\rho u)_x = 0.$$\n",
      "In general, we need another equation to determine the velocity $u(x,t)$.  Let's consider the simplest case, in which all of the fluid flows at a single, constant velocity $u(x,t)=a$.  Then the continuity equation becomes the **advection equation**\n",
      "$$\\rho_t + a u_x = 0.$$\n",
      "This equation has a very simple solution.  If we are given the density $\\rho(x,0)=\\rho_0(x)$ at time zero, then the solution is just\n",
      "$$\\rho(x,t) = \\rho_0(x-at).$$"
     ]
    },
    {
     "cell_type": "markdown",
     "metadata": {},
     "source": [
      "Let's plot the solution of the advection equation on the interval $[0,1]$ for the initial condition\n",
      "$$\\rho_0(x) = e^{-2(x-1/2)^2}.$$\n",
      "For now, don't worry about understanding all of the plotting code below.  Just play with the animation until you have a feel for how the solution behaves."
     ]
    },
    {
     "cell_type": "code",
     "collapsed": false,
     "input": [
      "import numpy as np\n",
      "import matplotlib.pyplot as plt\n",
      "%matplotlib inline\n",
      "\n",
      "from IPython.html.widgets import interact, interactive, fixed\n",
      "from IPython.html import widgets\n",
      "from IPython.display import clear_output, display, HTML\n",
      "\n",
      "def rho_0(x):\n",
      "    return np.exp(-200.*(x-0.2)**2)\n",
      "\n",
      "def advection(t,a=1.0):\n",
      "    x = np.linspace(0,1,1000)\n",
      "    plt.plot(x,rho_0(x-a*t))\n",
      "    plt.axis((0,1,-0.1,1.1))\n",
      "    \n",
      "i = interact(advection,\n",
      "         t=(0,1,0.05),\n",
      "         a=(1,3,1))"
     ],
     "language": "python",
     "metadata": {},
     "outputs": [
      {
       "metadata": {},
       "output_type": "display_data",
       "png": "[encoded data removed]",
       "text": [
        "<matplotlib.figure.Figure at 0x107ef43d0>"
       ]
      }
     ],
     "prompt_number": 24
    },
    {
     "cell_type": "markdown",
     "metadata": {},
     "source": [
      "As you can see, the initial pulse just moves to the right at speed $a$ as time advances.  This isn't very interesting, but it captures the most important feature of hyperbolic equations: waves travel at finite speed."
     ]
    },
    {
     "cell_type": "heading",
     "level": 2,
     "metadata": {},
     "source": [
      "A finite volume method for advection"
     ]
    },
    {
     "cell_type": "markdown",
     "metadata": {},
     "source": [
      "We can easily solve the advection equation exactly.  But the advection equation is a prototype for more complicated conservation laws that we will only be able to approximate using numerical methods.  In order to better understand these methods, we will discuss them first in the context of the simple advection equation."
     ]
    },
    {
     "cell_type": "markdown",
     "metadata": {},
     "source": [
      "$$\n",
      "\\newcommand{Dx}{h}\n",
      "\\newcommand{imh}{{i-1/2}}\n",
      "\\newcommand{iph}{{i+1/2}}\n",
      "$$\n",
      "\n",
      "For simplicity, we'll suppose that we wish to solve the advection equation on the interval $[0,1]$.  We introduce a set of equally spaced *grid cells* of width $\\Dx$, and write $x_i$ to mean the center of cell $i$.  Thus the first cell is the interval $[0,\\Dx]$ and $x_1=\\Dx/2$.  We will also write $x_\\imh$ or $x_\\iph$ to denote the left or right boundary of cell $i$, respectively. (picture)\n",
      "\n",
      "We write $Q_i$ to denote the *average* value of the solution over cell $i$:\n",
      "$$Q_i = \\frac{1}{\\Dx} \\int_{x_\\imh}^{x_\\iph} q \\ dx.$$\n",
      "The simplest finite volume method is obtained by supposing that the solution is actually *equal* to $Q_i$ over all of cell $i$. (picture)\n",
      "\n",
      "Suppose $a>0$.  Then the flux into cell $i$ from the left is $a Q_{i-1}$ and the flux out of cell $i$ to the right is $a Q_i$.  Then our integral conservation law reads\n",
      "$$Q_i'(t) = -\\frac{a}{\\Dx}\\left(Q_i - Q_{i-1}\\right).$$\n",
      "Applying a forward difference in time we obtain the *upwind method*\n",
      "$$Q^{n+1}_i = Q^n_i -\\frac{a}{\\Dx}\\left(Q_i - Q_{i-1}\\right).$$\n",
      "Let's write a bit of Python code to solve the advection equation using the upwind method."
     ]
    },
    {
     "cell_type": "code",
     "collapsed": false,
     "input": [],
     "language": "python",
     "metadata": {},
     "outputs": []
    }
   ],
   "metadata": {}
  }
 ]
}