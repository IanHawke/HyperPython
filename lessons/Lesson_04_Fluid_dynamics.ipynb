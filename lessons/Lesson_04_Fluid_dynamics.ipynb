{
 "metadata": {
  "name": "",
  "signature": "sha256:3d70d7538cd1b11f0dae9ccb7231f64d0072eaa0d1c1dd9e4cfef661a97b1256"
 },
 "nbformat": 3,
 "nbformat_minor": 0,
 "worksheets": [
  {
   "cells": [
    {
     "cell_type": "raw",
     "metadata": {},
     "source": [
      "Content provided under a Creative Commons Attribution license, CC-BY 4.0; code under MIT License. (c)2014 David I. Ketcheson."
     ]
    },
    {
     "cell_type": "markdown",
     "metadata": {},
     "source": [
      "[David I. Ketcheson](http://davidketcheson.info)"
     ]
    },
    {
     "cell_type": "heading",
     "level": 5,
     "metadata": {},
     "source": [
      "version 0.1 - April 2014"
     ]
    },
    {
     "cell_type": "heading",
     "level": 1,
     "metadata": {},
     "source": [
      "Inviscid, compressible fluid dynamics"
     ]
    },
    {
     "cell_type": "code",
     "collapsed": false,
     "input": [
      "In this lesson we will look at the "
     ],
     "language": "python",
     "metadata": {},
     "outputs": []
    }
   ],
   "metadata": {}
  }
 ]
}