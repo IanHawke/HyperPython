{
 "metadata": {
  "name": "",
  "signature": "sha256:d756e737ecb56580e61a503fc481c462b2978d756b3605e0c2563a3bdec8f1bb"
 },
 "nbformat": 3,
 "nbformat_minor": 0,
 "worksheets": [
  {
   "cells": [
    {
     "cell_type": "raw",
     "metadata": {},
     "source": [
      "Content provided under a Creative Commons Attribution license, CC-BY 4.0; code under MIT License. (c)2014 David I. Ketcheson."
     ]
    },
    {
     "cell_type": "markdown",
     "metadata": {},
     "source": [
      "[David I. Ketcheson](http://davidketcheson.info)"
     ]
    },
    {
     "cell_type": "heading",
     "level": 5,
     "metadata": {},
     "source": [
      "version 0.1 - April 2014"
     ]
    },
    {
     "cell_type": "code",
     "collapsed": false,
     "input": [],
     "language": "python",
     "metadata": {},
     "outputs": []
    }
   ],
   "metadata": {}
  }
 ]
}