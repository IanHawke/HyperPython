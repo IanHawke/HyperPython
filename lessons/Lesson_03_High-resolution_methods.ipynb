{
 "metadata": {
  "name": "",
  "signature": "sha256:cf966d568be1af72b71eca00d5270788548c961efc6fc733d5415c062a493513"
 },
 "nbformat": 3,
 "nbformat_minor": 0,
 "worksheets": [
  {
   "cells": [
    {
     "cell_type": "heading",
     "level": 6,
     "metadata": {},
     "source": [
      "Content provided under a Creative Commons Attribution license, CC-BY 4.0; code under MIT License. (c)2014 [David I. Ketcheson](http://davidketcheson.info)"
     ]
    },
    {
     "cell_type": "heading",
     "level": 5,
     "metadata": {},
     "source": [
      "version 0.1 - May 2014"
     ]
    },
    {
     "cell_type": "heading",
     "level": 1,
     "metadata": {},
     "source": [
      "High-resolution methods"
     ]
    },
    {
     "cell_type": "markdown",
     "metadata": {},
     "source": [
      "The methods we have used so far (i.e., the *upwind method* and the *Lax-Friedrichs method*) are both dissipative.  This means that over time they artificially smear out the solution -- especially shocks.  Furthermore, both of these methods are only *first order accurate*, meaning that if we reduce the values of $\\Dt$ and $\\Dx$ by a factor of two, the overall error decreases (only) by a factor of two.  We can do better."
     ]
    },
    {
     "cell_type": "heading",
     "level": 2,
     "metadata": {},
     "source": [
      "A 2nd-order method"
     ]
    },
    {
     "cell_type": "markdown",
     "metadata": {},
     "source": [
      "The first step in improving our accuracy is to use a more accurate representation of $q(x)$ at each step.  Instead of assuming that $q$ is piecewise-constant, we will now approximate it by a piecewise-linear function:\n",
      "$$q(x) = Q^n_i + \\sigma^n_i (x-x_i).$$\n",
      "Here $\\sigma_i$ represents the slope in cell $i$.  The most obvious choice to ensure that this results in a second-order accurate approximation is to take the centered approximation\n",
      "$$\\sigma^n_i = \\frac{Q^n_{i+1} - Q^n_{i-1}}{2\\Dx}.$$\n",
      "We use this to obtain values at the cell interfaces:\n",
      "\\begin{align}\n",
      "q^+_\\imh & = Q_i - \\sigma_i \\frac{\\Dx}{2} \\\\\n",
      "q^-_\\iph & = Q_i + \\sigma_i \\frac{\\Dx}{2}.\n",
      "\\end{align}\n",
      "Finally, we'll use these interface values to approximate the flux, based on the **Lax-Friedrichs flux**: (*maybe use LLF here?  Write in pure flux differencing form, or with a dissipative term?*)\n",
      "$$F_\\imh = \\frac{1}{2} \\left( f(q^-_\\imh) + f(q^+_\\imh) - \\frac{\\Dx}{\\Dt} (q^+_\\imh - q^-_\\imh)\\right)$$\n",
      "This provides second-order accuracy in space.  We also need to make the method second-order accurate in time.  We can do so by using a second-order Runge--Kutta method.  Then the full method is\n",
      "\\begin{align}\n",
      "Q^*_i & = Q^n_i - \\frac{\\Dt}{\\Dx}\\left( F^n_\\iph - F^n_\\imh \\right) \\\\\n",
      "Q^{n+1}_i & = \\frac{1}{2} Q^n_i + \\frac{1}{2}\\left( Q^*_i - \\frac{\\Dt}{\\Dx}\\left( F^*_\\iph - F^*_\\imh \\right) \\right) \\\\\n",
      "\\end{align}"
     ]
    },
    {
     "cell_type": "code",
     "collapsed": false,
     "input": [
      "import sys\n",
      "sys.path.append('../util')\n",
      "from ianimate import ianimate\n",
      "import numpy as np\n",
      "\n",
      "def f(q):\n",
      "    return q*(1.0-q)\n",
      "\n",
      "m = 100      # of points\n",
      "dx = 1./m   # Size of 1 grid cell\n",
      "x = np.arange(-3*dx/2, 1.+5*dx/2, dx)\n",
      "\n",
      "t = 0. # Initial time\n",
      "T = 0.5 # Final time\n",
      "dt = 0.9 * dx  # Time step\n",
      "\n",
      "Q = 0.9*np.exp(-100*(x-0.5)**2)\n",
      "Qnew = np.zeros(m+4)\n",
      "Qstar = np.zeros(m+4)\n",
      "sigma = np.zeros(m+4)\n",
      "\n",
      "F = np.zeros(m+4)\n",
      "QQ = [Q]\n",
      "\n",
      "while t < T:\n",
      "    \n",
      "    sigma[1:-1]  = (Q[2:] - Q[:-2])/(2.0*dx)\n",
      "    qplus  = Q[1:-1] - sigma[1:-1] * dx/2.0  # q^+_{i-1/2}\n",
      "    qminus = Q[:-2] + sigma[:-2]  * dx/2.0  # q^-_{i-1/2}\n",
      "    F[1:-1] = 0.5*(f(qplus)+f(qminus) - dx/dt*(qplus-qminus) )# F_{i-1/2}\n",
      "    \n",
      "    Qstar[2:-2] = Q[2:-2] - dt/dx*(F[3:-1]-F[2:-2])\n",
      "    Qstar[0:2] = Qstar[2]\n",
      "    Qstar[-2:] = Qstar[-3]\n",
      "    \n",
      "    sigma[1:-1]  = (Qstar[2:] - Qstar[:-2])/(2.0*dx)\n",
      "    qplus  = Qstar[1:-1] - sigma[1:-1] * dx/2.0  # q^+_{i-1/2}\n",
      "    qminus = Qstar[:-2] + sigma[:-2]  * dx/2.0  # q^-_{i-1/2}\n",
      "    F[1:-1] = 0.5*(f(qplus)+f(qminus) - dx/dt*(qplus-qminus) )# F_{i-1/2}\n",
      "    \n",
      "    Qnew[2:-2] = 0.5*Q[2:-2] + 0.5*(Qstar[2:-2] - dt/dx*(F[3:-1]-F[2:-2]))\n",
      "        \n",
      "    Q = Qnew.copy()\n",
      "    Q[0:2] = Q[2]\n",
      "    Q[-2:] = Q[-3]\n",
      "    t = t + dt\n",
      "    QQ.append(Q)\n",
      "    \n",
      "ianimate(x,QQ)"
     ],
     "language": "python",
     "metadata": {},
     "outputs": []
    },
    {
     "cell_type": "markdown",
     "metadata": {},
     "source": [
      "The shock wave is much sharper now, but we have a new problem. Do you see the little dip behind the shock?  If you look closely, you'll see that the solution is actually negative there!  Obviously, a negative density of cars makes no sense.  What's more, the solution shouldn't dip there -- and it shouldn't have that funny bump just in front of the shock either.  What to do?"
     ]
    },
    {
     "cell_type": "heading",
     "level": 2,
     "metadata": {},
     "source": [
      "Slope limiting"
     ]
    },
    {
     "cell_type": "markdown",
     "metadata": {},
     "source": [
      "$$\n",
      "\\newcommand{\\DQ}{\\Delta Q}\n",
      "\\DeclareMathOperator{\\sgn}{sgn}\n",
      "$$\n",
      "The spurious oscillations in our solution are not a particular feature of the method we've chosen.  In fact, *any* second-order (or higher) method that computes $q^\\pm_\\imh$ as a linear function of the cell averages will have oscillations (this is a famous result known as *Godunov's Theorem*).\n",
      "\n",
      "We can get around this difficulty by choosing the slope $\\sigma$ as a *nonlinear* function of the cell averages.  In particular, to avoid oscillations we can choose the smaller of the two one-sided slopes.  Let $\\DQ_\\imh = Q_i - Q_{i-1}$.  Then we use the slope\n",
      "\\begin{align}\n",
      "\\sigma_i & = \\text{minmod}(\\DQ_\\imh,\\DQ_\\iph)/\\Dx \\\\\n",
      "& = \\begin{cases} \\min(\\DQ_\\imh, \\DQ_\\iph)/\\Dx & \\text{ if } \\DQ_\\imh, \\DQ_\\iph > 0 \\\\\n",
      "\\max(\\DQ_\\imh, \\DQ_\\iph)/\\Dx & \\text{ if } \\DQ_\\imh, \\DQ_\\iph < 0 \\\\\n",
      "0 & \\text{ if } \\DQ_\\imh\\cdot \\DQ_\\iph < 0.\n",
      "\\end{cases}\n",
      "\\end{align}\n",
      "This choice of slope is known as the minimum-modulus, or *minmod* slope."
     ]
    },
    {
     "cell_type": "heading",
     "level": 3,
     "metadata": {},
     "source": [
      "Exercise"
     ]
    },
    {
     "cell_type": "markdown",
     "metadata": {},
     "source": [
      "In the cell below, copy and modify the second-order method above to use the minmod slope.  *Hint*: to avoid using a loop for the slope computation, note that the minmod function can be written as\n",
      "$$\n",
      "\\text{minmod}(a,b) = \\frac{\\sgn(a)+\\sgn(b)}{2} \\min(|a|,|b|).\n",
      "$$\n",
      "The signum  function is implemented as `np.sign()`. "
     ]
    },
    {
     "cell_type": "code",
     "collapsed": false,
     "input": [],
     "language": "python",
     "metadata": {},
     "outputs": []
    },
    {
     "cell_type": "markdown",
     "metadata": {},
     "source": [
      "As you can see (after completing the exercise), this method keeps the shock fairly sharp and avoids the creation of negative solution values.  This method fall into the class of so-called [MUSCL]() schemes and is proven to avoid oscillations."
     ]
    },
    {
     "cell_type": "heading",
     "level": 2,
     "metadata": {},
     "source": [
      "High-order methods"
     ]
    },
    {
     "cell_type": "markdown",
     "metadata": {},
     "source": [
      "Just like the method we implemented above, most methods that are more than first-order accurate consist of three components:\n",
      "1. **Reconstruction**: A method for computing interface values $q^\\pm_\\imh$ from cell averages $Q_i$.  This involves some kind of limiting in order to avoid oscillations.  Higher-order reconstruction is often done using [weighted essentially non-oscillatory (WENO)](http://www.dam.brown.edu/scicomp/media/report_files/BrownSC-2006-21.ps.gz) methods.\n",
      "2. **Numerical flux**:  An approximation of the flux, computed based on the interface values $q^\\pm_\\imh$.  The Lax-Friedrichs flux above is one of the simplest.  Much more accurate fluxes can be computed using an exact or approximate [Riemann solver](http://en.wikipedia.org/wiki/Riemann_solver).\n",
      "3. **Time integrator**: In order to get high-order accuracy in time, usually a [Runge-Kutta method](http://en.wikipedia.org/wiki/Runge%E2%80%93Kutta_methods) is used.  [Strong stability preserving methods](http://www.davidketcheson.info/assets/papers/sspreview.pdf) are particularly popular."
     ]
    },
    {
     "cell_type": "code",
     "collapsed": false,
     "input": [
      "from IPython.core.display import HTML\n",
      "def css_styling():\n",
      "    styles = open(\"../styles/custom.css\", \"r\").read()\n",
      "    return HTML(styles)\n",
      "css_styling()"
     ],
     "language": "python",
     "metadata": {},
     "outputs": []
    }
   ],
   "metadata": {}
  }
 ]
}