{
 "metadata": {
  "name": ""
 },
 "nbformat": 3,
 "nbformat_minor": 0,
 "worksheets": [
  {
   "cells": [
    {
     "cell_type": "heading",
     "level": 6,
     "metadata": {},
     "source": [
      "Content provided under a Creative Commons Attribution license, CC-BY 4.0; code under MIT License. (c)2014 [David I. Ketcheson](http://davidketcheson.info)"
     ]
    },
    {
     "cell_type": "heading",
     "level": 5,
     "metadata": {},
     "source": [
      "version 0.1 - May 2014"
     ]
    },
    {
     "cell_type": "heading",
     "level": 1,
     "metadata": {},
     "source": [
      "Python for Scientific Computing"
     ]
    },
    {
     "cell_type": "markdown",
     "metadata": {},
     "source": [
      "This tutorial includes techniques frequently used in Python regarding classes, objects and methods.\n",
      "We'll also learn the basic functionality of two important Python packages for scientific computing: **NumPy** and **matplotlib**.  \n",
      "\n",
      "The topics covered in this part are:\n",
      "\n",
      "- Object-oriented programming: Classes, objects, and methods.\n",
      "- Advanced techniques in object and function manipulation.\n",
      "- Intoduction to NumPy.\n",
      "- A brief discription of matplotlib.\n",
      "- The Pythonic way: Tips & Tricks."
     ]
    },
    {
     "cell_type": "markdown",
     "metadata": {},
     "source": [
      "#### Acknowledgements:\n",
      "Material has been adapted from the following:\n",
      "\n",
      "- ACM KAUST student chapter's [Python tutorial](http://mar-one.github.io/ACM-Python-Tutorials-KAUST-2014/).\n",
      "- David Ketcheson's [Introduction to NumPy and Matplotlib](http://nbviewer.ipython.org/github/ketch/AMCS252/blob/master/2_Introduction_to_Numpy%20and_Matplotlib.ipynb).\n",
      "- Software Carpentry's [Numerical analysis with NumPy](http://nbviewer.ipython.org/github/geocarpentry/2014-01-30-mit/blob/gh-pages/lessons/vignettes/Numerical%20analysis%20with%20NumPy.ipynb)\n",
      "- J.R. Johansson's [Numpy - multidimensional data arrays](http://nbviewer.ipython.org/github/jrjohansson/scientific-python-lectures/blob/master/Lecture-2-Numpy.ipynb).\n",
      "- [Tentative NumPy tutorial](http://www.scipy.org/Tentative_NumPy_Tutorial) and Nicolas P. Rougier's [Matplotlib tutorial](http://www.loria.fr/~rougier/teaching/matplotlib/)."
     ]
    },
    {
     "cell_type": "heading",
     "level": 2,
     "metadata": {},
     "source": [
      "Object-oriented programming in Python"
     ]
    },
    {
     "cell_type": "markdown",
     "metadata": {},
     "source": [
      "\n",
      "Python is essentially designed as an object-oriented programming language. Thus, objects play an important role in the programming process and using them efficiently is a fundamental task.\n",
      "\n",
      "Every programming language uses data and functions to manipulate the data. Procedural programming is centered on procedures or functions. Data is often passed between functions but is actually separated from them. On the other hand object-oriented programming is centered on creating <b>objects</b> which link data and code. Technically speaking, an `oblect` is an entity which contains both data and functions.\n",
      "\n",
      "Data inside an object is called a data attribute.\n",
      "Functions inside an object are called methods.\n",
      "\n",
      "Now, data attributes and methods are specified within a class. You can think of a class as a template of an object. Every object belongs to a class and inherits the properties of the class, however acts individually to other objects of that class.\n",
      "\n",
      "Remember that everything in Python can be declared as an `oblect`. Strings, dictionaries, integers, functions, classes ... all are objects."
     ]
    },
    {
     "cell_type": "markdown",
     "metadata": {},
     "source": [
      "### How to create classes and build class hierarchies\n",
      "Let's create an example class `Student` and add a couple of methods to it."
     ]
    },
    {
     "cell_type": "code",
     "collapsed": false,
     "input": [
      "class Person(object):\n",
      "    def __init__(self, name, age):\n",
      "        self.name = name\n",
      "        self.age = age\n",
      "    \n",
      "    def WhatIsYourAge(self):\n",
      "        return self.age\n",
      "\n",
      "p1 = Person('Paul', 20) # creating an instance (object) of class 'Person'\n",
      "print p1.name # data atrribute of the object\n",
      "print p1.WhatIsYourAge() # a method of the object"
     ],
     "language": "python",
     "metadata": {},
     "outputs": [
      {
       "output_type": "stream",
       "stream": "stdout",
       "text": [
        "Paul\n",
        "20\n"
       ]
      }
     ],
     "prompt_number": 173
    },
    {
     "cell_type": "markdown",
     "metadata": {},
     "source": [
      "Now, let's create a small hierarchy of classes with a base class `Person`."
     ]
    },
    {
     "cell_type": "code",
     "collapsed": false,
     "input": [
      "class Student(Person):\n",
      "    def __init__(self, name, university):\n",
      "        self.name = name\n",
      "        self.university = university\n",
      "    \n",
      "    def WhereDoYouStudy(self):\n",
      "        return self.university\n",
      "\n",
      "p2 = Student('Ivan', 'Sz\u00e9chenyi Istv\u00e1n univeristy')\n",
      "print '%s studies at %s.' % (p2.name, p2.WhereDoYouStudy())"
     ],
     "language": "python",
     "metadata": {},
     "outputs": [
      {
       "output_type": "stream",
       "stream": "stdout",
       "text": [
        "Ivan studies at Sz\u00e9chenyi Istv\u00e1n univeristy.\n"
       ]
      }
     ],
     "prompt_number": 174
    },
    {
     "cell_type": "markdown",
     "metadata": {},
     "source": [
      "We will define subclass `Student` so that inherits attributes and methods of superclass `Person` and then define a subclass of `Student`."
     ]
    },
    {
     "cell_type": "code",
     "collapsed": false,
     "input": [
      "class Student(Person):\n",
      "    def __init__(self, name, age, university):\n",
      "        super(Student, self).__init__(name, age) \n",
      "        # or you can write Person.__init__(self, name, age)\n",
      "        self.name = name\n",
      "        self.university = university\n",
      "    \n",
      "    def WhereDoYouStudy(self):\n",
      "        return self.university\n",
      "\n",
      "class PhD(Student):\n",
      "    title = 'PhD' # this will be a class-wise field!\n",
      "    \n",
      "    def __init__(self, name, age, university, major):\n",
      "        super(PhD, self).__init__(name, age, university) \n",
      "        # or you can write Student.__init__(self, name, age, university)\n",
      "        self.major = major\n",
      "    \n",
      "    def WhatIsYourMajor(self):\n",
      "        return self.major\n",
      "\n",
      "p3 = PhD('Chris',23,'Sz\u00e9chenyi Istv\u00e1n university','CS')\n",
      "print '%s is %d year\\'s old and he is a %s student in %s at %s.' % \\\n",
      "        (p3.name, p3.age, p3.title, p3.WhatIsYourMajor(), p3.university)\n",
      "# note that age is an attribute of the base class inherited by the subclass"
     ],
     "language": "python",
     "metadata": {},
     "outputs": [
      {
       "output_type": "stream",
       "stream": "stdout",
       "text": [
        "Chris is 23 year's old and he is a PhD student in CS at Sz\u00e9chenyi Istv\u00e1n university.\n"
       ]
      }
     ],
     "prompt_number": 177
    },
    {
     "cell_type": "markdown",
     "metadata": {},
     "source": [
      "A subclass can also be defined from more base classes:"
     ]
    },
    {
     "cell_type": "code",
     "collapsed": false,
     "input": [
      "class Student(Person):\n",
      "    def __init__(self, name, university):\n",
      "        self.name = name\n",
      "        self.university = university\n",
      "    \n",
      "    def WhereDoYouStudy(self):\n",
      "        return self.university\n",
      "    \n",
      "class Employee(Person):\n",
      "    def __init__(self, name, organization):\n",
      "        self.name = name\n",
      "        self.employer = organization\n",
      "    \n",
      "    def WhereDoYouWork(self):\n",
      "        return self.employer\n",
      "\n",
      "class PhD(Student, Employee):\n",
      "    title = 'PhD'\n",
      "\n",
      "    def __init__(self, name, major, organization=None, university=None):\n",
      "        Employee.__init__(self, name, organization)\n",
      "        Student.__init__(self, name, university)\n",
      "        self.major = major\n",
      "\n",
      "    def WhatIsYourMajor(self):\n",
      "        return self.major\n",
      "\n",
      "    def WhereDoYouStudy(self):\n",
      "        return self.WhereDoYouWork() if self.university is None \\\n",
      "            else super(PhD, self).WhereDoYouStudy()\n",
      "\n",
      "p4 = PhD('Chris','EE',university='KAUST')\n",
      "p5 = PhD('John','CS',organization='Audi')\n",
      "print '%s is at %s and has a %s in %s.' % \\\n",
      "    (p4.name, p4.WhereDoYouStudy(), p4.title, p4.WhatIsYourMajor())\n",
      "print '%s is at %s and has a %s in %s.' % \\\n",
      "    (p5.name, p5.WhereDoYouStudy(), p5.title, p5.WhatIsYourMajor())"
     ],
     "language": "python",
     "metadata": {},
     "outputs": [
      {
       "output_type": "stream",
       "stream": "stdout",
       "text": [
        "Chris is at KAUST and has a PhD in EE.\n",
        "John is at Audi and has a PhD in CS.\n"
       ]
      }
     ],
     "prompt_number": 179
    },
    {
     "cell_type": "markdown",
     "metadata": {},
     "source": [
      "### Extending existing Python types\n",
      "Object-oriented programming is very useful for extending existing types and classes when an additional feature is needed. For example the following code makes a subclass `Graph` from the class `dict` and overflows the `print` method.\n",
      "The `Graph` subclass has the following structure: each key-element will be a node, each value element will be a `list` of the adjacent nodes. Graph will be initialized with a list of directed edges."
     ]
    },
    {
     "cell_type": "code",
     "collapsed": false,
     "input": [
      "print type(dict) # a class has type 'type'\n",
      "dir(dict)"
     ],
     "language": "python",
     "metadata": {},
     "outputs": [
      {
       "output_type": "stream",
       "stream": "stdout",
       "text": [
        "<type 'type'>\n"
       ]
      },
      {
       "metadata": {},
       "output_type": "pyout",
       "prompt_number": 180,
       "text": [
        "['__class__',\n",
        " '__cmp__',\n",
        " '__contains__',\n",
        " '__delattr__',\n",
        " '__delitem__',\n",
        " '__doc__',\n",
        " '__eq__',\n",
        " '__format__',\n",
        " '__ge__',\n",
        " '__getattribute__',\n",
        " '__getitem__',\n",
        " '__gt__',\n",
        " '__hash__',\n",
        " '__init__',\n",
        " '__iter__',\n",
        " '__le__',\n",
        " '__len__',\n",
        " '__lt__',\n",
        " '__ne__',\n",
        " '__new__',\n",
        " '__reduce__',\n",
        " '__reduce_ex__',\n",
        " '__repr__',\n",
        " '__setattr__',\n",
        " '__setitem__',\n",
        " '__sizeof__',\n",
        " '__str__',\n",
        " '__subclasshook__',\n",
        " 'clear',\n",
        " 'copy',\n",
        " 'fromkeys',\n",
        " 'get',\n",
        " 'has_key',\n",
        " 'items',\n",
        " 'iteritems',\n",
        " 'iterkeys',\n",
        " 'itervalues',\n",
        " 'keys',\n",
        " 'pop',\n",
        " 'popitem',\n",
        " 'setdefault',\n",
        " 'update',\n",
        " 'values',\n",
        " 'viewitems',\n",
        " 'viewkeys',\n",
        " 'viewvalues']"
       ]
      }
     ],
     "prompt_number": 180
    },
    {
     "cell_type": "code",
     "collapsed": false,
     "input": [
      "dict.fromkeys?"
     ],
     "language": "python",
     "metadata": {},
     "outputs": [],
     "prompt_number": 181
    },
    {
     "cell_type": "markdown",
     "metadata": {},
     "source": [
      "Resize the help window (to get it out of your way) by dragging the divider. Double click on the divider to close it.\n",
      "\n",
      "**NOTE:** A well written and detailed guide on the so called Python \"magic methods\" (with double underscores) can be found [here](http://www.rafekettler.com/magicmethods.html)."
     ]
    },
    {
     "cell_type": "code",
     "collapsed": false,
     "input": [
      "class Graph(dict):\n",
      "    \"\"\"Graph class, extends dict\"\"\"\n",
      "    def __init__(self, edges):\n",
      "        \"\"\"\n",
      "        Initialize graph with a list of 2-tuples. \n",
      "        Each tuple is a directed edge.\n",
      "        \"\"\"\n",
      "        for u, v in edges:\n",
      "            try:\n",
      "                self[u].append(v)\n",
      "            except KeyError, e:\n",
      "                self[u] = [v]\n",
      "            # instead of try-except you can use: \n",
      "            # self[u] = self.get(u,[]) + [v]\n",
      "    \n",
      "    def __str__(self):\n",
      "        \"\"\"\n",
      "        Returns a Graph representation. \n",
      "        Called by 'print' for any object we would like to print.\n",
      "        \"\"\"\n",
      "        representation = '\\n'.join([\"%i -> [%s]\" % \n",
      "            (u,','.join([str(v) for v in V])) for u,V in self.iteritems()])\n",
      "        return representation"
     ],
     "language": "python",
     "metadata": {},
     "outputs": [],
     "prompt_number": 182
    },
    {
     "cell_type": "code",
     "collapsed": false,
     "input": [
      "g = Graph([(1,2), (2,3), (1,4), (1,3), (3,1)])\n",
      "print g\n",
      "print g[1]"
     ],
     "language": "python",
     "metadata": {},
     "outputs": [
      {
       "output_type": "stream",
       "stream": "stdout",
       "text": [
        "1 -> [2,4,3]\n",
        "2 -> [3]\n",
        "3 -> [1]\n",
        "[2, 4, 3]\n"
       ]
      }
     ],
     "prompt_number": 183
    },
    {
     "cell_type": "markdown",
     "metadata": {},
     "source": [
      "### Viewing functions as objects\n",
      "As we mentioned, everything in Python is an object. Even a function. Consider the following example where the function `bind` takes a function and a dictionary `kwargs` in its arguments and returns an object of type `function`."
     ]
    },
    {
     "cell_type": "code",
     "collapsed": false,
     "input": [
      "# Bind function example\n",
      "def bind(func, **kwargs):\n",
      "    def bfunc(*args):\n",
      "        return func(*args, **kwargs)\n",
      "    return bfunc"
     ],
     "language": "python",
     "metadata": {},
     "outputs": [],
     "prompt_number": 200
    },
    {
     "cell_type": "markdown",
     "metadata": {},
     "source": [
      "As a quick example, let's make function `sorted` sort the provided iterable object in the reverse order."
     ]
    },
    {
     "cell_type": "code",
     "collapsed": false,
     "input": [
      "sorted([1, -1, 2, 10, 100, -404])"
     ],
     "language": "python",
     "metadata": {},
     "outputs": [
      {
       "metadata": {},
       "output_type": "pyout",
       "prompt_number": 201,
       "text": [
        "[-404, -1, 1, 2, 10, 100]"
       ]
      }
     ],
     "prompt_number": 201
    },
    {
     "cell_type": "code",
     "collapsed": false,
     "input": [
      "rev_sorted = bind(sorted, reverse=True)\n",
      "print type(rev_sorted)\n",
      "rev_sorted([1, -1, 2, 10, 100, -404])"
     ],
     "language": "python",
     "metadata": {},
     "outputs": [
      {
       "output_type": "stream",
       "stream": "stdout",
       "text": [
        "<type 'function'>\n"
       ]
      },
      {
       "metadata": {},
       "output_type": "pyout",
       "prompt_number": 202,
       "text": [
        "[100, 10, 2, 1, -1, -404]"
       ]
      }
     ],
     "prompt_number": 202
    },
    {
     "cell_type": "markdown",
     "metadata": {},
     "source": [
      "### 1.4 Decorators\n",
      "Now consider the Fibonacci recurrent sequence defined as follows:\n",
      "\n",
      "$$F(0) = 0, \\\\\n",
      "F(1) = 1, \\\\\n",
      "F(n) = F(n-1) + F(n-2)$$\n",
      "\n",
      "Since the Fibonacci sequence is recurrent, for every input `n` we should compute values for all the previous indices. We can code it in a efficient way by hacking the \\_\\_call\\_\\_ method and adding some caching. This can easily be done with *decorators*."
     ]
    },
    {
     "cell_type": "code",
     "collapsed": false,
     "input": [
      "import collections\n",
      "\n",
      "def memoize(func):\n",
      "    \"\"\" \n",
      "    A caching decorator. \n",
      "    Checks and returns a cached value before applying the function itself.\n",
      "    \"\"\"\n",
      "    cache = {}\n",
      "    def cachedFunc(*args):\n",
      "        if args not in cache:\n",
      "            #print \"Cache miss!\"\n",
      "            cache[args] = func(*args)\n",
      "        return cache[args]\n",
      "    return cachedFunc\n",
      "\n",
      "@memoize # when Fib is called memoize(Fib) is called instead\n",
      "def Fib(n):\n",
      "    \"\"\"Return the n-th Fibonacci number.\"\"\"\n",
      "    assert type(n) is int and n >= 0, \\\n",
      "        \"ERROR (Fib): index should be positive and integer!\"\n",
      "    return Fib(n-1) + Fib(n-2) if n > 1 else 1 if n is 1 else 0"
     ],
     "language": "python",
     "metadata": {},
     "outputs": [],
     "prompt_number": 203
    },
    {
     "cell_type": "code",
     "collapsed": false,
     "input": [
      "import time\n",
      "t1 = time.time()\n",
      "[Fib(i) for i in range(16)]\n",
      "print time.time() - t1"
     ],
     "language": "python",
     "metadata": {},
     "outputs": [
      {
       "output_type": "stream",
       "stream": "stdout",
       "text": [
        "0.00029182434082\n"
       ]
      }
     ],
     "prompt_number": 204
    },
    {
     "cell_type": "code",
     "collapsed": false,
     "input": [
      "def Fib(n):\n",
      "    \"\"\"Return the n-th Fibonacci number.\"\"\"\n",
      "    assert type(n) is int and n >= 0, \\\n",
      "        \"ERROR (Fib): index should be positive and integer!\"\n",
      "    return Fib(n-1) + Fib(n-2) if n > 1 else 1 if n is 1 else 0"
     ],
     "language": "python",
     "metadata": {},
     "outputs": [],
     "prompt_number": 205
    },
    {
     "cell_type": "code",
     "collapsed": false,
     "input": [
      "import time\n",
      "t1 = time.time()\n",
      "[Fib(i) for i in range(16)]\n",
      "print time.time() - t1"
     ],
     "language": "python",
     "metadata": {},
     "outputs": [
      {
       "output_type": "stream",
       "stream": "stdout",
       "text": [
        "0.00453400611877\n"
       ]
      }
     ],
     "prompt_number": 191
    },
    {
     "cell_type": "markdown",
     "metadata": {},
     "source": [
      "## 2. Intoduction to NumPy\n",
      "Python includes a package for numerical computation called numpy, which is an essential tool for scientific computing. It is based on\n",
      "multidimensional arrays (vectors and matrices) and provides a large library of functions and operators that work efficiently on these objects.\n",
      "In this way, any numerical algorithm is expressed as operations on arrays and in many cases runs almost as quickly as the equivalent C code.\n",
      "\n",
      "Numpy is complemented by [`SciPy`](http://www.scipy.org/); a library that adds more MATLAB-like functionality and [`matplotlib`](http://matplotlib.org/); a plotting package that provides MATLAB-like plotting functionality. \n",
      "\n",
      "Like MATLAB, NumPy relies on BLAS and LAPACK for efficient linear algebra computations.\n",
      "\n",
      "\n",
      "NumPy's is used in:</br>\n",
      "Numerical Analysis, Linear algebra, Solution of differential equations, Image and signal processing, Statistical analysis, Data transformation and query and many more...\n"
     ]
    },
    {
     "cell_type": "markdown",
     "metadata": {},
     "source": [
      "### 2.1 Why to use NumPy?\n",
      "\n",
      "Consider the following list and suppose we want to perform some simple algebraic operations:"
     ]
    },
    {
     "cell_type": "code",
     "collapsed": false,
     "input": [
      "price = [5.99, 10.25, 2.0, 40.99, 5.60, 63.49]"
     ],
     "language": "python",
     "metadata": {},
     "outputs": [],
     "prompt_number": 192
    },
    {
     "cell_type": "code",
     "collapsed": false,
     "input": [
      "price*2"
     ],
     "language": "python",
     "metadata": {},
     "outputs": [
      {
       "metadata": {},
       "output_type": "pyout",
       "prompt_number": 193,
       "text": [
        "[5.99, 10.25, 2.0, 40.99, 5.6, 63.49, 5.99, 10.25, 2.0, 40.99, 5.6, 63.49]"
       ]
      }
     ],
     "prompt_number": 193
    },
    {
     "cell_type": "code",
     "collapsed": false,
     "input": [
      "price+0.5"
     ],
     "language": "python",
     "metadata": {},
     "outputs": [
      {
       "ename": "TypeError",
       "evalue": "can only concatenate list (not \"float\") to list",
       "output_type": "pyerr",
       "traceback": [
        "\u001b[0;31m---------------------------------------------------------------------------\u001b[0m\n\u001b[0;31mTypeError\u001b[0m                                 Traceback (most recent call last)",
        "\u001b[0;32m<ipython-input-194-ba6ebb983a2c>\u001b[0m in \u001b[0;36m<module>\u001b[0;34m()\u001b[0m\n\u001b[0;32m----> 1\u001b[0;31m \u001b[0mprice\u001b[0m\u001b[0;34m+\u001b[0m\u001b[0;36m0.5\u001b[0m\u001b[0;34m\u001b[0m\u001b[0m\n\u001b[0m",
        "\u001b[0;31mTypeError\u001b[0m: can only concatenate list (not \"float\") to list"
       ]
      }
     ],
     "prompt_number": 194
    },
    {
     "cell_type": "markdown",
     "metadata": {},
     "source": [
      "Clearly, if we wanted to double the value of each element and add half, this cannot be done easily. Instead, we would have to use a loop:"
     ]
    },
    {
     "cell_type": "code",
     "collapsed": false,
     "input": [
      "for i in range(len(price)):\n",
      "    price[i] = price[i]*2\n",
      "    price[i] = price[i]+0.5\n",
      "print price"
     ],
     "language": "python",
     "metadata": {},
     "outputs": [
      {
       "output_type": "stream",
       "stream": "stdout",
       "text": [
        "[  25.46   42.5     9.5   165.46   23.9   255.46]\n"
       ]
      }
     ],
     "prompt_number": 206
    },
    {
     "cell_type": "markdown",
     "metadata": {},
     "source": [
      "But, there should be a more convinient way..."
     ]
    },
    {
     "cell_type": "markdown",
     "metadata": {},
     "source": [
      "#### Getting started\n",
      "\n",
      "We start, by importing the NumPy module. Import statements like this are the typical way of getting access to functions in Python. The most general way to import a module is the following:"
     ]
    },
    {
     "cell_type": "code",
     "collapsed": false,
     "input": [
      "from numpy import *"
     ],
     "language": "python",
     "metadata": {},
     "outputs": [],
     "prompt_number": 207
    },
    {
     "cell_type": "markdown",
     "metadata": {},
     "source": [
      "The above imports all functions included in the package and can call them simply by their name."
     ]
    },
    {
     "cell_type": "code",
     "collapsed": false,
     "input": [
      "sin(3*pi/2)*exp(2)"
     ],
     "language": "python",
     "metadata": {},
     "outputs": [
      {
       "metadata": {},
       "output_type": "pyout",
       "prompt_number": 208,
       "text": [
        "-7.3890560989306504"
       ]
      }
     ],
     "prompt_number": 208
    },
    {
     "cell_type": "markdown",
     "metadata": {},
     "source": [
      "Instead we can import the numpy module and tell Python that we want to refer to numpy by the short abbreviation *np*. This is recommended since we keep track of which module the functions belong to."
     ]
    },
    {
     "cell_type": "code",
     "collapsed": false,
     "input": [
      "import numpy as np"
     ],
     "language": "python",
     "metadata": {},
     "outputs": [],
     "prompt_number": 209
    },
    {
     "cell_type": "markdown",
     "metadata": {},
     "source": [
      "### Arrays\n",
      "\n",
      "NumPy's main object is the homogeneous multidimensional array. \n",
      "It is a table of elements - all of the same type - indexed by a tuple of positive integers.\n",
      "\n",
      "NumPy's array class is called *ndarray* and the package includes basic utility functions for creating and manipulate arrays in a similar fashion to MATLAB.\n",
      "For example we can create a one-dimensional array by:"
     ]
    },
    {
     "cell_type": "code",
     "collapsed": false,
     "input": [
      "price = np.array([5.99, 10.25, 2.0, 40.99, 5.60, 63.49])\n",
      "print type(price)\n",
      "price = price*2+0.5\n",
      "print price"
     ],
     "language": "python",
     "metadata": {},
     "outputs": [
      {
       "output_type": "stream",
       "stream": "stdout",
       "text": [
        "<type 'numpy.ndarray'>\n",
        "[  12.48   21.      4.5    82.48   11.7   127.48]\n"
       ]
      }
     ],
     "prompt_number": 210
    },
    {
     "cell_type": "markdown",
     "metadata": {},
     "source": [
      "There are other ways to create one-dimensional arrays:"
     ]
    },
    {
     "cell_type": "code",
     "collapsed": false,
     "input": [
      "x = np.linspace(-1,1,5)\n",
      "print x"
     ],
     "language": "python",
     "metadata": {},
     "outputs": [
      {
       "output_type": "stream",
       "stream": "stdout",
       "text": [
        "[-1.  -0.5  0.   0.5  1. ]\n"
       ]
      }
     ],
     "prompt_number": 211
    },
    {
     "cell_type": "code",
     "collapsed": false,
     "input": [
      "y = np.arange(0,1,0.2)\n",
      "print y"
     ],
     "language": "python",
     "metadata": {},
     "outputs": [
      {
       "output_type": "stream",
       "stream": "stdout",
       "text": [
        "[ 0.   0.2  0.4  0.6  0.8]\n"
       ]
      }
     ],
     "prompt_number": 212
    },
    {
     "cell_type": "markdown",
     "metadata": {},
     "source": [
      "Change the inputs of the `linspace` and `arange` function until you understand exactly what they do. For example we can use both ways to create a vector of starting from -1.5 to 4.5 exclusive with a step of 0.5:"
     ]
    },
    {
     "cell_type": "code",
     "collapsed": false,
     "input": [
      "x = np.linspace(-1.5,4.5,13)\n",
      "y = np.arange(-1.5,5,0.5)\n",
      "(x==y).all()"
     ],
     "language": "python",
     "metadata": {},
     "outputs": [
      {
       "metadata": {},
       "output_type": "pyout",
       "prompt_number": 213,
       "text": [
        "True"
       ]
      }
     ],
     "prompt_number": 213
    },
    {
     "cell_type": "markdown",
     "metadata": {},
     "source": [
      "#### Multidimensional arrays\n",
      "\n",
      "We can create multidimensional arrays, like the following:"
     ]
    },
    {
     "cell_type": "code",
     "collapsed": false,
     "input": [
      "A = np.array([[1,2.4,-13],[4.1,5,0],[7.2,8,9]])\n",
      "print \"A = \", A\n",
      "print type(A)\n",
      "print A.shape\n",
      "print A.dtype"
     ],
     "language": "python",
     "metadata": {},
     "outputs": [
      {
       "output_type": "stream",
       "stream": "stdout",
       "text": [
        "A =  [[  1.    2.4 -13. ]\n",
        " [  4.1   5.    0. ]\n",
        " [  7.2   8.    9. ]]\n",
        "<type 'numpy.ndarray'>\n",
        "(3, 3)\n",
        "float64\n"
       ]
      }
     ],
     "prompt_number": 214
    },
    {
     "cell_type": "markdown",
     "metadata": {},
     "source": [
      "To see all different attributes of the array object type its name followed by a fullstop and press *tap*. Note that some attributes are basically functions and require parentheses (with or without arguments), e.g. *conjugate* and others don't, e.g. *size*:"
     ]
    },
    {
     "cell_type": "code",
     "collapsed": false,
     "input": [
      "A = np.array([[1,2+4j,3j],[4j,5,6-5j],[7j,8,9+3j]]) # dtype=complex\n",
      "print A.conjugate()\n",
      "print A.size"
     ],
     "language": "python",
     "metadata": {},
     "outputs": [
      {
       "output_type": "stream",
       "stream": "stdout",
       "text": [
        "[[ 1.-0.j  2.-4.j  0.-3.j]\n",
        " [ 0.-4.j  5.-0.j  6.+5.j]\n",
        " [ 0.-7.j  8.-0.j  9.-3.j]]\n",
        "9\n"
       ]
      }
     ],
     "prompt_number": 215
    },
    {
     "cell_type": "markdown",
     "metadata": {},
     "source": [
      "We can also define the shape of the array:"
     ]
    },
    {
     "cell_type": "code",
     "collapsed": false,
     "input": [
      "np.random.uniform(0,1,size=(5,5)) \n",
      "# 5 x 5 matrix with elements from a uniform distribution"
     ],
     "language": "python",
     "metadata": {},
     "outputs": [
      {
       "metadata": {},
       "output_type": "pyout",
       "prompt_number": 216,
       "text": [
        "array([[ 0.55365901,  0.47730465,  0.15226904,  0.97855996,  0.74834841],\n",
        "       [ 0.91085521,  0.36686531,  0.50316613,  0.04452017,  0.21514487],\n",
        "       [ 0.2333755 ,  0.52471729,  0.33725761,  0.14800404,  0.27469845],\n",
        "       [ 0.66818603,  0.68858297,  0.47656546,  0.47950091,  0.78918122],\n",
        "       [ 0.66531172,  0.70361437,  0.31495465,  0.08742401,  0.56648275]])"
       ]
      }
     ],
     "prompt_number": 216
    },
    {
     "cell_type": "markdown",
     "metadata": {},
     "source": [
      "#### Special arrays\n",
      "\n",
      "The function *zeros* creates an array full of zeros, the function *ones* creates an array full of ones and *eye* an identity array. Function *diag* is used for a diagonal array with specified diagonal elements. A matrix with random entries is generated by the *random* function."
     ]
    },
    {
     "cell_type": "code",
     "collapsed": false,
     "input": [
      "print np.zeros((3,4))\n",
      "print np.ones((2,3))\n",
      "print np.eye(3)"
     ],
     "language": "python",
     "metadata": {},
     "outputs": [
      {
       "output_type": "stream",
       "stream": "stdout",
       "text": [
        "[[ 0.  0.  0.  0.]\n",
        " [ 0.  0.  0.  0.]\n",
        " [ 0.  0.  0.  0.]]\n",
        "[[ 1.  1.  1.]\n",
        " [ 1.  1.  1.]]\n",
        "[[ 1.  0.  0.]\n",
        " [ 0.  1.  0.]\n",
        " [ 0.  0.  1.]]\n"
       ]
      }
     ],
     "prompt_number": 217
    },
    {
     "cell_type": "code",
     "collapsed": false,
     "input": [
      "print np.diag(x,0)\n",
      "print np.diag([2,3,4])\n",
      "print np.random.random((2,2))"
     ],
     "language": "python",
     "metadata": {},
     "outputs": [
      {
       "output_type": "stream",
       "stream": "stdout",
       "text": [
        "[[-1.5  0.   0.   0.   0.   0.   0.   0.   0.   0.   0.   0.   0. ]\n",
        " [ 0.  -1.   0.   0.   0.   0.   0.   0.   0.   0.   0.   0.   0. ]\n",
        " [ 0.   0.  -0.5  0.   0.   0.   0.   0.   0.   0.   0.   0.   0. ]\n",
        " [ 0.   0.   0.   0.   0.   0.   0.   0.   0.   0.   0.   0.   0. ]\n",
        " [ 0.   0.   0.   0.   0.5  0.   0.   0.   0.   0.   0.   0.   0. ]\n",
        " [ 0.   0.   0.   0.   0.   1.   0.   0.   0.   0.   0.   0.   0. ]\n",
        " [ 0.   0.   0.   0.   0.   0.   1.5  0.   0.   0.   0.   0.   0. ]\n",
        " [ 0.   0.   0.   0.   0.   0.   0.   2.   0.   0.   0.   0.   0. ]\n",
        " [ 0.   0.   0.   0.   0.   0.   0.   0.   2.5  0.   0.   0.   0. ]\n",
        " [ 0.   0.   0.   0.   0.   0.   0.   0.   0.   3.   0.   0.   0. ]\n",
        " [ 0.   0.   0.   0.   0.   0.   0.   0.   0.   0.   3.5  0.   0. ]\n",
        " [ 0.   0.   0.   0.   0.   0.   0.   0.   0.   0.   0.   4.   0. ]\n",
        " [ 0.   0.   0.   0.   0.   0.   0.   0.   0.   0.   0.   0.   4.5]]\n",
        "[[2 0 0]\n",
        " [0 3 0]\n",
        " [0 0 4]]\n",
        "[[ 0.7641473   0.20116461]\n",
        " [ 0.56719498  0.75952726]]\n"
       ]
      }
     ],
     "prompt_number": 218
    },
    {
     "cell_type": "markdown",
     "metadata": {},
     "source": [
      "Notice that there are two pairs of parentheses used when calling the *zeros*, *ones* and *random* command, because we are passing as argument (e.g. the Python tuple *(3,4)*), which is the shape of the resulting array."
     ]
    },
    {
     "cell_type": "markdown",
     "metadata": {},
     "source": [
      "#### Reshape and indexing\n",
      "\n",
      "Manipulation of arrays can be done in many ways:  "
     ]
    },
    {
     "cell_type": "code",
     "collapsed": false,
     "input": [
      "A = np.arange(20).reshape((4,5))\n",
      "print A\n",
      "print A.ravel() # flatten the array\n",
      "print A.ravel()[::-1] # reverse a vector"
     ],
     "language": "python",
     "metadata": {},
     "outputs": [
      {
       "output_type": "stream",
       "stream": "stdout",
       "text": [
        "[[ 0  1  2  3  4]\n",
        " [ 5  6  7  8  9]\n",
        " [10 11 12 13 14]\n",
        " [15 16 17 18 19]]\n",
        "[ 0  1  2  3  4  5  6  7  8  9 10 11 12 13 14 15 16 17 18 19]\n",
        "[19 18 17 16 15 14 13 12 11 10  9  8  7  6  5  4  3  2  1  0]\n"
       ]
      }
     ],
     "prompt_number": 219
    },
    {
     "cell_type": "markdown",
     "metadata": {},
     "source": [
      "We can slice numpy arrays just as other programming languages, but the indexing is a little different. See the examples below:"
     ]
    },
    {
     "cell_type": "code",
     "collapsed": false,
     "input": [
      "print A"
     ],
     "language": "python",
     "metadata": {},
     "outputs": [
      {
       "output_type": "stream",
       "stream": "stdout",
       "text": [
        "[[ 0  1  2  3  4]\n",
        " [ 5  6  7  8  9]\n",
        " [10 11 12 13 14]\n",
        " [15 16 17 18 19]]\n"
       ]
      }
     ],
     "prompt_number": 220
    },
    {
     "cell_type": "code",
     "collapsed": false,
     "input": [
      "print A[0,0]\n",
      "print A[1:3,0:2]\n",
      "print A[0:3,[0,3]]"
     ],
     "language": "python",
     "metadata": {},
     "outputs": [
      {
       "output_type": "stream",
       "stream": "stdout",
       "text": [
        "0\n",
        "[[ 5  6]\n",
        " [10 11]]\n",
        "[[ 0  3]\n",
        " [ 5  8]\n",
        " [10 13]]\n"
       ]
      }
     ],
     "prompt_number": 221
    },
    {
     "cell_type": "markdown",
     "metadata": {},
     "source": [
      "Note that the fundamental difference from MATLAB is that the indexing starts from zero and is exclusive of the second index. Hence, in the above example 1:3 refers to the second and third row and 0:2 to the first and second column."
     ]
    },
    {
     "cell_type": "markdown",
     "metadata": {},
     "source": [
      "We can index in some clever ways too:  "
     ]
    },
    {
     "cell_type": "code",
     "collapsed": false,
     "input": [
      "print A[0,:] # row selection\n",
      "print A[:,2] # column selection"
     ],
     "language": "python",
     "metadata": {},
     "outputs": [
      {
       "output_type": "stream",
       "stream": "stdout",
       "text": [
        "[0 1 2 3 4]\n",
        "[ 2  7 12 17]\n"
       ]
      }
     ],
     "prompt_number": 222
    },
    {
     "cell_type": "code",
     "collapsed": false,
     "input": [
      "print A[:,1:] # all rows, from 2nd column until the end\n",
      "print \n",
      "print A[-1,:] # last row, all columns"
     ],
     "language": "python",
     "metadata": {},
     "outputs": [
      {
       "output_type": "stream",
       "stream": "stdout",
       "text": [
        "[[ 1  2  3  4]\n",
        " [ 6  7  8  9]\n",
        " [11 12 13 14]\n",
        " [16 17 18 19]]\n",
        "\n",
        "[15 16 17 18 19]\n"
       ]
      }
     ],
     "prompt_number": 223
    },
    {
     "cell_type": "markdown",
     "metadata": {},
     "source": [
      "We can change array's elements:"
     ]
    },
    {
     "cell_type": "code",
     "collapsed": false,
     "input": [
      "A[:,2] = [.3,-1.4,9.12, -0.5]\n",
      "print A\n",
      "print A.dtype"
     ],
     "language": "python",
     "metadata": {},
     "outputs": [
      {
       "output_type": "stream",
       "stream": "stdout",
       "text": [
        "[[ 0  1  0  3  4]\n",
        " [ 5  6 -1  8  9]\n",
        " [10 11  9 13 14]\n",
        " [15 16  0 18 19]]\n",
        "int64\n"
       ]
      }
     ],
     "prompt_number": 224
    },
    {
     "cell_type": "markdown",
     "metadata": {},
     "source": [
      "Notice that the elements of A remain integers. That is because A is of type *int*. The following does the desired change:"
     ]
    },
    {
     "cell_type": "code",
     "collapsed": false,
     "input": [
      "A = array(A,dtype='float')\n",
      "A[:,2] = [.3,-1.4,9.12, -0.5]\n",
      "print A"
     ],
     "language": "python",
     "metadata": {},
     "outputs": [
      {
       "output_type": "stream",
       "stream": "stdout",
       "text": [
        "[[  0.     1.     0.3    3.     4.  ]\n",
        " [  5.     6.    -1.4    8.     9.  ]\n",
        " [ 10.    11.     9.12  13.    14.  ]\n",
        " [ 15.    16.    -0.5   18.    19.  ]]\n"
       ]
      }
     ],
     "prompt_number": 225
    },
    {
     "cell_type": "markdown",
     "metadata": {},
     "source": [
      "We can also index an array using boolean arrays:"
     ]
    },
    {
     "cell_type": "code",
     "collapsed": false,
     "input": [
      "a = np.arange(10)\n",
      "b = a > 5\n",
      "a[b] = 0  # All elements of 'a' higher than 5 become 0\n",
      "print a"
     ],
     "language": "python",
     "metadata": {},
     "outputs": [
      {
       "output_type": "stream",
       "stream": "stdout",
       "text": [
        "[0 1 2 3 4 5 0 0 0 0]\n"
       ]
      }
     ],
     "prompt_number": 226
    },
    {
     "cell_type": "markdown",
     "metadata": {},
     "source": [
      "#### Stacking and splitting\n",
      "The `vstack` and `hstack` commands can be used to combine arrays and `hsplit` to split."
     ]
    },
    {
     "cell_type": "code",
     "collapsed": false,
     "input": [
      "A = np.random.randint(10, size=(2, 2))\n",
      "B = np.random.randint(10, size=(2, 2))\n",
      "print A\n",
      "print B"
     ],
     "language": "python",
     "metadata": {},
     "outputs": [
      {
       "output_type": "stream",
       "stream": "stdout",
       "text": [
        "[[3 4]\n",
        " [9 0]]\n",
        "[[0 5]\n",
        " [6 3]]\n"
       ]
      }
     ],
     "prompt_number": 227
    },
    {
     "cell_type": "code",
     "collapsed": false,
     "input": [
      "print np.vstack((A,B))\n",
      "print np.hstack((B,A))"
     ],
     "language": "python",
     "metadata": {},
     "outputs": [
      {
       "output_type": "stream",
       "stream": "stdout",
       "text": [
        "[[3 4]\n",
        " [9 0]\n",
        " [0 5]\n",
        " [6 3]]\n",
        "[[0 5 3 4]\n",
        " [6 3 9 0]]\n"
       ]
      }
     ],
     "prompt_number": 228
    },
    {
     "cell_type": "code",
     "collapsed": false,
     "input": [
      "A = np.random.randint(20, size=(2, 12))\n",
      "print A"
     ],
     "language": "python",
     "metadata": {},
     "outputs": [
      {
       "output_type": "stream",
       "stream": "stdout",
       "text": [
        "[[14 19 14  1 13  8  7 14  2  2 13  8]\n",
        " [ 7 19  6  5  2  8  4 12 18  8 14 12]]\n"
       ]
      }
     ],
     "prompt_number": 229
    },
    {
     "cell_type": "code",
     "collapsed": false,
     "input": [
      "print np.hsplit(A,3)       # Split A into 3 arrays\n",
      "print np.hsplit(A,(3,4))   # Split A after the third and the fourth column"
     ],
     "language": "python",
     "metadata": {},
     "outputs": [
      {
       "output_type": "stream",
       "stream": "stdout",
       "text": [
        "[array([[14, 19, 14,  1],\n",
        "       [ 7, 19,  6,  5]]), array([[13,  8,  7, 14],\n",
        "       [ 2,  8,  4, 12]]), array([[ 2,  2, 13,  8],\n",
        "       [18,  8, 14, 12]])]\n",
        "[array([[14, 19, 14],\n",
        "       [ 7, 19,  6]]), array([[1],\n",
        "       [5]]), array([[13,  8,  7, 14,  2,  2, 13,  8],\n",
        "       [ 2,  8,  4, 12, 18,  8, 14, 12]])]\n"
       ]
      }
     ],
     "prompt_number": 230
    },
    {
     "cell_type": "markdown",
     "metadata": {},
     "source": [
      "### Array and matrix operations"
     ]
    },
    {
     "cell_type": "code",
     "collapsed": false,
     "input": [
      "print a**2\n",
      "print 10*sin(np.pi/a[1:5]) # avoiding division with zero!\n",
      "A = arange(9).reshape(3,3)\n",
      "print A*A"
     ],
     "language": "python",
     "metadata": {},
     "outputs": [
      {
       "output_type": "stream",
       "stream": "stdout",
       "text": [
        "[ 0  1  4  9 16 25  0  0  0  0]\n",
        "[  1.22464680e-15   1.00000000e+01   8.66025404e+00   7.07106781e+00]\n",
        "[[ 0  1  4]\n",
        " [ 9 16 25]\n",
        " [36 49 64]]\n"
       ]
      }
     ],
     "prompt_number": 232
    },
    {
     "cell_type": "markdown",
     "metadata": {},
     "source": [
      "By default, NumPy uses component-wise multiplication. For a matrix-matrix (or matrix-vector) multiplication, we use the *dot* function:  "
     ]
    },
    {
     "cell_type": "code",
     "collapsed": false,
     "input": [
      "A = arange(9).reshape(3,3)\n",
      "np.dot(A,A)"
     ],
     "language": "python",
     "metadata": {},
     "outputs": [
      {
       "metadata": {},
       "output_type": "pyout",
       "prompt_number": 233,
       "text": [
        "array([[ 15,  18,  21],\n",
        "       [ 42,  54,  66],\n",
        "       [ 69,  90, 111]])"
       ]
      }
     ],
     "prompt_number": 233
    },
    {
     "cell_type": "markdown",
     "metadata": {},
     "source": [
      "#### Other basic operations"
     ]
    },
    {
     "cell_type": "code",
     "collapsed": false,
     "input": [
      "print A.sum(axis=0)     # sum of each column\n",
      "print A.sum()           # sum of all elements\n",
      "print A.min(axis=1)     # min of each row"
     ],
     "language": "python",
     "metadata": {},
     "outputs": [
      {
       "output_type": "stream",
       "stream": "stdout",
       "text": [
        "[ 9 12 15]\n",
        "36\n",
        "[0 3 6]\n"
       ]
      }
     ],
     "prompt_number": 234
    },
    {
     "cell_type": "markdown",
     "metadata": {},
     "source": [
      "In Python *axis* refers to the dimensions of arrays; *axis=0* refers to the colums and *axis=1* to the rows."
     ]
    },
    {
     "cell_type": "markdown",
     "metadata": {},
     "source": [
      "#### Linear algebra\n",
      "Handling *ndarrays* is really powerful. Of the many things one can do with NumPy's arrays is linear algebra:  "
     ]
    },
    {
     "cell_type": "code",
     "collapsed": false,
     "input": [
      "x = np.random.random(10)\n",
      "print x\n",
      "np.linalg.norm(x,np.inf) # maximum norm of a vector"
     ],
     "language": "python",
     "metadata": {},
     "outputs": [
      {
       "output_type": "stream",
       "stream": "stdout",
       "text": [
        "[ 0.26840592  0.44007389  0.00445504  0.53765744  0.79163501  0.65309325\n",
        "  0.21085624  0.20129127  0.47703356  0.35848308]\n"
       ]
      },
      {
       "metadata": {},
       "output_type": "pyout",
       "prompt_number": 235,
       "text": [
        "0.79163500716037105"
       ]
      }
     ],
     "prompt_number": 235
    },
    {
     "cell_type": "markdown",
     "metadata": {},
     "source": [
      "We can use this module to solve a linear system of equations $Ax=b$:"
     ]
    },
    {
     "cell_type": "code",
     "collapsed": false,
     "input": [
      "A = np.array([[0,2],[8,0]])\n",
      "b = np.array([1,2])\n",
      "x = np.linalg.solve(A,b)\n",
      "print x"
     ],
     "language": "python",
     "metadata": {},
     "outputs": [
      {
       "output_type": "stream",
       "stream": "stdout",
       "text": [
        "[ 0.25  0.5 ]\n"
       ]
      }
     ],
     "prompt_number": 236
    },
    {
     "cell_type": "markdown",
     "metadata": {},
     "source": [
      "We can also solve eigenvalue problems:"
     ]
    },
    {
     "cell_type": "code",
     "collapsed": false,
     "input": [
      "lamda,V = np.linalg.eig(A)\n",
      "print lamda\n",
      "print V"
     ],
     "language": "python",
     "metadata": {},
     "outputs": [
      {
       "output_type": "stream",
       "stream": "stdout",
       "text": [
        "[ 4. -4.]\n",
        "[[ 0.4472136  -0.4472136 ]\n",
        " [ 0.89442719  0.89442719]]\n"
       ]
      }
     ],
     "prompt_number": 237
    },
    {
     "cell_type": "markdown",
     "metadata": {},
     "source": [
      "Notice we have put two variables on the left of the equals sign, to assign the outputs of *eig()* to two different variables. Here *lamda* are the eigenvalues and the columns of *V* are the eigenvectors."
     ]
    },
    {
     "cell_type": "markdown",
     "metadata": {},
     "source": [
      "**<u>Exercise 1:</u>**\n",
      "\n",
      "1. Create a vector with values ranging from 10 to 99\n",
      "2. Find indices of non-zero elements from [1,2,0,0,4,0]. Hint: use <em>np.nonzero</em>\n",
      "3. Declare a 8x8 matrix and fill it with a checkerboard pattern of zeros and ones, without a loop.\n",
      "4. Create a 5x3 matrix whose $(i,j)$ entry is equal to $i\\times j^2$ without using a loop. Hint: use <em>np.fromfunction</em>.\n",
      "5. Create a 4x4 array with numbers from a normal distribution with mean = 3 and standard deviation = 1.5. Hint: use <em>np.random.normal</em>. Sum the values of each row and store the result in a new array."
     ]
    },
    {
     "cell_type": "code",
     "collapsed": false,
     "input": [
      "# type your solution here"
     ],
     "language": "python",
     "metadata": {},
     "outputs": [],
     "prompt_number": 47
    },
    {
     "cell_type": "code",
     "collapsed": false,
     "input": [
      "#%load solutions/array_operations.py"
     ],
     "language": "python",
     "metadata": {},
     "outputs": [],
     "prompt_number": 48
    },
    {
     "cell_type": "markdown",
     "metadata": {},
     "source": [
      "## Intoduction to Matplotlib\n",
      "[`Matplotlib`](http://matplotlib.org/) is the basic package of Python for plotting. The first line above ensures that our plots appear in the browser, instead in a separate window."
     ]
    },
    {
     "cell_type": "code",
     "collapsed": false,
     "input": [
      "%pylab inline --no-import-all\n",
      "import matplotlib.pyplot as plt"
     ],
     "language": "python",
     "metadata": {},
     "outputs": [
      {
       "output_type": "stream",
       "stream": "stdout",
       "text": [
        "Populating the interactive namespace from numpy and matplotlib\n"
       ]
      }
     ],
     "prompt_number": 49
    },
    {
     "cell_type": "markdown",
     "metadata": {},
     "source": [
      "###Basic 2D plotting\n",
      "Let's see a very simple example. Suppose we want to plot the function $\\sin(\\exp(x))$ on the interval $x\\in(0,\\pi)$. We'll want to use the NumPy functions of the sine and exponential functions. (Note: the math module operates only on scalars so we *should* use NumPy in such cases)"
     ]
    },
    {
     "cell_type": "code",
     "collapsed": false,
     "input": [
      "x = np.linspace(0,np.pi,1000)\n",
      "f = np.sin(np.exp(x))\n",
      "g = np.cos(2*x)\n",
      "plt.plot(x,f)\n",
      "plt.plot(x,g)"
     ],
     "language": "python",
     "metadata": {},
     "outputs": [
      {
       "metadata": {},
       "output_type": "pyout",
       "prompt_number": 238,
       "text": [
        "[<matplotlib.lines.Line2D at 0x105f82a90>]"
       ]
      },
      {
       "metadata": {},
       "output_type": "display_data",
       "png": "[encoded data removed]",
       "text": [
        "<matplotlib.figure.Figure at 0x105f82c90>"
       ]
      }
     ],
     "prompt_number": 238
    },
    {
     "cell_type": "markdown",
     "metadata": {},
     "source": [
      "There are several ways to format a plot in python. Here we just mention only the basic functionality. It's straightforward to use them and you will generally only get into its advanced functionality if you are customizing the look of a plot for a publication. Matplotlib documentation is very good, have a look [here](http://matplotlib.sourceforge.net/users/pyplot_tutorial.html). You can also read [this tutorial](http://www.loria.fr/~rougier/teaching/matplotlib) for an easy start. More references are listed at the end of this tutorial.\n",
      "\n",
      "The following code does the basic formatting for the plot above:"
     ]
    },
    {
     "cell_type": "code",
     "collapsed": false,
     "input": [
      "# changing figure's shape\n",
      "plt.figure(figsize=(10,6), dpi=100) \n",
      "\n",
      "# adjusting horizonatal and vertical axis limits\n",
      "plt.xlim(x.min()-0.1, x.max()+0.1)\n",
      "plt.ylim(f.min()-0.1, f.max()+0.1)\n",
      "\n",
      "# setting ticks\n",
      "plt.xticks([0, np.pi/2, np.pi],\n",
      "        [r'$-\\pi$',r'$-\\pi/2$',r'$0$',r'$+\\pi/2$',r'$+\\pi$'], fontsize=14) \n",
      "plt.yticks([-1, 0, +1],[r'$-1$', r'$0$', r'$+1$'], fontsize=14)\n",
      "\n",
      "# changing color and thickness\n",
      "plt.plot(x,f,color=\"blue\",linewidth=2.5,linestyle=\"-\",label=\"$\\sin(e^x)$\") \n",
      "plt.plot(x,g,color=\"red\", linewidth=2.5,linestyle=\"-\",label=\"$\\cos(2x)$\")\n",
      "\n",
      "# setting legend on bottom left\n",
      "plt.legend(loc='lower left',prop={'size':16})\n",
      "\n",
      "# title, horizontal and vertical axis name\n",
      "plt.xlabel('$x$',fontsize=16) \n",
      "plt.ylabel('test functions',fontsize=16)\n",
      "plt.title('Sample plot',fontsize=18)\n",
      "\n",
      "# enabling grid\n",
      "plt.grid(True)\n",
      "\n",
      "# saves figure in a pdf file\n",
      "#plt.savefig('trig_functions.pdf') "
     ],
     "language": "python",
     "metadata": {},
     "outputs": [
      {
       "metadata": {},
       "output_type": "display_data",
       "png": "[encoded data removed]",
       "text": [
        "<matplotlib.figure.Figure at 0x106821390>"
       ]
      }
     ],
     "prompt_number": 239
    },
    {
     "cell_type": "markdown",
     "metadata": {},
     "source": [
      "The image can be resized by dragging the handle in the lower right corner. Double clicking will return them to their original size.\n",
      "\n",
      "One thing to be aware of is that by default, the *figure* object is cleared at the end of each cell, so you will need to issue all plotting commands for a single figure in a single cell.\n"
     ]
    },
    {
     "cell_type": "markdown",
     "metadata": {},
     "source": [
      "### Plotting in 3D\n",
      "The following example is adapted from [this tutorial](http://nbviewer.ipython.org/github/jrjohansson/scientific-python-lectures/blob/master/Lecture-2-Numpy.ipynb). Let's define the following function:"
     ]
    },
    {
     "cell_type": "code",
     "collapsed": false,
     "input": [
      "alpha = 0.7\n",
      "phi_ext = 2*np.pi*0.5\n",
      "\n",
      "def flux_qubit_potential(phi_m, phi_p):\n",
      "    return 2 + alpha - 2*np.cos(phi_p)*np.cos(phi_m) - \\\n",
      "        alpha*np.cos(phi_ext - 2*phi_p)"
     ],
     "language": "python",
     "metadata": {},
     "outputs": [],
     "prompt_number": 240
    },
    {
     "cell_type": "markdown",
     "metadata": {},
     "source": [
      "Now create a mesh and evaluate the function over that mesh:"
     ]
    },
    {
     "cell_type": "code",
     "collapsed": false,
     "input": [
      "phi_m = np.linspace(0, 2*np.pi, 100)\n",
      "phi_p = np.linspace(0, 2*np.pi, 100)\n",
      "X,Y = np.meshgrid(phi_p, phi_m)\n",
      "Z = flux_qubit_potential(X, Y).T"
     ],
     "language": "python",
     "metadata": {},
     "outputs": [],
     "prompt_number": 241
    },
    {
     "cell_type": "markdown",
     "metadata": {},
     "source": [
      "Plot the surface:"
     ]
    },
    {
     "cell_type": "code",
     "collapsed": false,
     "input": [
      "from mpl_toolkits.mplot3d.axes3d import Axes3D # imports 3D plotting\n",
      "from matplotlib import cm # module for color pattern\n",
      "fig = plt.figure(figsize=(12,6))\n",
      "\n",
      "# `ax` is a 3D-aware axis instance because of the projection='3d' \n",
      "# keyword argument to add_subplot\n",
      "ax = fig.add_subplot(1, 2, 1, projection='3d')\n",
      "\n",
      "p = ax.plot_surface(X, Y, Z, rstride=4, cstride=4, linewidth=0)\n",
      "\n",
      "# surface_plot with color grading and color bar\n",
      "ax = fig.add_subplot(1, 2, 2, projection='3d')\n",
      "p = ax.plot_surface(X, Y, Z, rstride=1, cstride=1, cmap=cm.coolwarm, \n",
      "                    linewidth=0, antialiased=False)\n",
      "cb = fig.colorbar(p, shrink=0.5) # enables colorbar"
     ],
     "language": "python",
     "metadata": {},
     "outputs": [
      {
       "metadata": {},
       "output_type": "display_data",
       "png": "[encoded data removed]",
       "text": [
        "<matplotlib.figure.Figure at 0x106821a90>"
       ]
      }
     ],
     "prompt_number": 242
    },
    {
     "cell_type": "markdown",
     "metadata": {},
     "source": [
      "## 4. The Pythonic way: Tips & Tricks\n",
      "Finally let's go through some essential Python tricks that can make your code shorter and more elegant."
     ]
    },
    {
     "cell_type": "heading",
     "level": 4,
     "metadata": {},
     "source": [
      "Multiple for-loop if-else comprehension"
     ]
    },
    {
     "cell_type": "code",
     "collapsed": false,
     "input": [
      "A = np.array([[1,2,3],[4,5,6],[7,8,9]]) # A can also be a list\n",
      "c = np.array([x**2 for row in A for x in row if x % 2 == 0])\n",
      "print c"
     ],
     "language": "python",
     "metadata": {},
     "outputs": [
      {
       "output_type": "stream",
       "stream": "stdout",
       "text": [
        "[ 4 16 36 64]\n"
       ]
      }
     ],
     "prompt_number": 138
    },
    {
     "cell_type": "markdown",
     "metadata": {},
     "source": [
      "#### Infinite structures"
     ]
    },
    {
     "cell_type": "code",
     "collapsed": false,
     "input": [
      "# In Python you can actually use infinite lsits and dicts \n",
      "# (without running out of memory!)\n",
      "a = [1,2,3]\n",
      "a.append(a)\n",
      "print a"
     ],
     "language": "python",
     "metadata": {},
     "outputs": [
      {
       "output_type": "stream",
       "stream": "stdout",
       "text": [
        "[1, 2, 3, [...]]\n"
       ]
      }
     ],
     "prompt_number": 155
    },
    {
     "cell_type": "code",
     "collapsed": false,
     "input": [
      "a[3][3][3][3][3][3][3][3][3][3][3][3]"
     ],
     "language": "python",
     "metadata": {},
     "outputs": [
      {
       "metadata": {},
       "output_type": "pyout",
       "prompt_number": 159,
       "text": [
        "[1, 2, 3, [...]]"
       ]
      }
     ],
     "prompt_number": 159
    },
    {
     "cell_type": "heading",
     "level": 4,
     "metadata": {},
     "source": [
      "Quick swap"
     ]
    },
    {
     "cell_type": "code",
     "collapsed": false,
     "input": [
      "a = 1\n",
      "b = 2\n",
      "print a,b\n",
      "a, b = b, a\n",
      "print a, b"
     ],
     "language": "python",
     "metadata": {},
     "outputs": [
      {
       "output_type": "stream",
       "stream": "stdout",
       "text": [
        "1 2\n",
        "2 1\n"
       ]
      }
     ],
     "prompt_number": 160
    },
    {
     "cell_type": "heading",
     "level": 4,
     "metadata": {},
     "source": [
      "Pairing elements of arrays or lists"
     ]
    },
    {
     "cell_type": "code",
     "collapsed": false,
     "input": [
      "first, second = ['a','b','c','d','e'], np.array([1,2,3,4,5])\n",
      "print first\n",
      "print second\n",
      "\n",
      "paired = zip(first,second)\n",
      "print paired"
     ],
     "language": "python",
     "metadata": {},
     "outputs": [
      {
       "output_type": "stream",
       "stream": "stdout",
       "text": [
        "['a', 'b', 'c', 'd', 'e']\n",
        "[1 2 3 4 5]\n",
        "[('a', 1), ('b', 2), ('c', 3), ('d', 4), ('e', 5)]\n"
       ]
      }
     ],
     "prompt_number": 169
    },
    {
     "cell_type": "code",
     "collapsed": false,
     "input": [
      "# Unpairing the elements back into two lists \n",
      "# NOTE: Arrays or lists turn into tuples, due to zip implementation.\n",
      "a, b = zip(*paired)\n",
      "print a\n",
      "print b"
     ],
     "language": "python",
     "metadata": {},
     "outputs": [
      {
       "output_type": "stream",
       "stream": "stdout",
       "text": [
        "('a', 'b', 'c', 'd', 'e')\n",
        "(1, 2, 3, 4, 5)\n"
       ]
      }
     ],
     "prompt_number": 170
    },
    {
     "cell_type": "heading",
     "level": 4,
     "metadata": {},
     "source": [
      "Providing function arguments via structures"
     ]
    },
    {
     "cell_type": "code",
     "collapsed": false,
     "input": [
      "def func(a, b, c, kw1 = '', kw2 = 0):\n",
      "    print a\n",
      "    print b\n",
      "    print c\n",
      "    print kw1\n",
      "    print kw2\n",
      "\n",
      "args = (1, 2, 3)\n",
      "kwargs = {'kw1':'Hello', 'kw2':100}\n",
      "func(*args,**kwargs)"
     ],
     "language": "python",
     "metadata": {},
     "outputs": [
      {
       "output_type": "stream",
       "stream": "stdout",
       "text": [
        "1\n",
        "2\n",
        "3\n",
        "Hello\n",
        "100\n"
       ]
      }
     ],
     "prompt_number": 165
    },
    {
     "cell_type": "markdown",
     "metadata": {},
     "source": [
      " "
     ]
    },
    {
     "cell_type": "code",
     "collapsed": false,
     "input": [
      "from IPython.core.display import HTML\n",
      "def css_styling():\n",
      "    styles = open(\"../styles/custom.css\", \"r\").read()\n",
      "    return HTML(styles)\n",
      "css_styling()"
     ],
     "language": "python",
     "metadata": {},
     "outputs": [
      {
       "html": [
        "<link href='http://fonts.googleapis.com/css?family=Alegreya+Sans:100,300,400,500,700,800,900,100italic,300italic,400italic,500italic,700italic,800italic,900italic' rel='stylesheet' type='text/css'>\n",
        "<link href='http://fonts.googleapis.com/css?family=Arvo:400,700,400italic' rel='stylesheet' type='text/css'>\n",
        "<link href='http://fonts.googleapis.com/css?family=PT+Mono' rel='stylesheet' type='text/css'>\n",
        "<link href='http://fonts.googleapis.com/css?family=Shadows+Into+Light' rel='stylesheet' type='text/css'>\n",
        "<link href='http://fonts.googleapis.com/css?family=Philosopher:400,700,400italic,700italic' rel='stylesheet' type='text/css'>\n",
        "\n",
        "<style>\n",
        "\n",
        "@font-face {\n",
        "    font-family: \"Computer Modern\";\n",
        "    src: url('http://mirrors.ctan.org/fonts/cm-unicode/fonts/otf/cmunss.otf');\n",
        "}\n",
        "\n",
        "#notebook_panel { /* main background */\n",
        "    background: #333;\n",
        "    color: #f6f6f6;\n",
        "}\n",
        "\n",
        "div #notebook { /* centre the content */\n",
        "    background: #fff;\n",
        "    color: #333;\n",
        "    width: 900px;\n",
        "    margin: auto;\n",
        "    padding-left: 1em;\n",
        "    padding-right: 1em;\n",
        "    padding-top: 2ex;\n",
        "}\n",
        "\n",
        "#notebook li { /* More space between bullet points */\n",
        "margin-top:0.8em;\n",
        "}\n",
        "\n",
        "div.cell { /* set cell width to about 80 chars */\n",
        "    width: 800px;\n",
        "}\n",
        "\n",
        "h1 {\n",
        "    font-family: 'Philosopher', sans-serif;\n",
        "}\n",
        "h2 {\n",
        "    font-family: 'Philosopher', serif;\n",
        "}\n",
        "h3{\n",
        "    font-family: 'Philosopher', serif;\n",
        "    font-style: 'italic';\n",
        "    margin-top:12px;\n",
        "    margin-bottom: 3px;\n",
        "}\n",
        "h4{\n",
        "    font-family: 'Philosopher', serif;\n",
        "}\n",
        "h5 {\n",
        "    font-family: 'Alegreya Sans', sans-serif;\n",
        "}\t\n",
        "h6 {\n",
        "    font-family: 'PT Mono', sans-serif;\n",
        "}\t\n",
        "\n",
        "div.text_cell_render{\n",
        "    font-family: 'Arvo' sans-serif;\n",
        "    line-height: 130%;\n",
        "    font-size: 115%;\n",
        "    width:700px;\n",
        "    margin-left:auto;\n",
        "    margin-right:auto;\n",
        "}\n",
        "\n",
        ".CodeMirror{\n",
        "        font-family: \"PT Mono\";\n",
        "                    font-size: 100%;\n",
        "            }\n",
        "\n",
        ".text_cell_render h1 {\n",
        "    font-weight: 400;\n",
        "    font-size: 64pt;\n",
        "    line-height: 100%;\n",
        "    color: rgb(12,85,97);\n",
        "    margin-bottom: 0.1em;\n",
        "    margin-top: 0.1em;\n",
        "    display: block;\n",
        "}\t\n",
        ".text_cell_render h2 {\n",
        "    font-weight: 700;\n",
        "    font-size: 24pt;\n",
        "    line-height: 100%;\n",
        "    color: rgb(171,165,131);\n",
        "    margin-bottom: 0.1em;\n",
        "    margin-top: 0.1em;\n",
        "    display: block;\n",
        "}\t\n",
        "\n",
        ".text_cell_render h3 {\n",
        "    font-style: italic;\n",
        "    color: rgb(95,92,72);\n",
        "}\n",
        "\n",
        ".text_cell_render h5 {\n",
        "    font-weight: 300;\n",
        "    font-size: 16pt;\n",
        "    color: grey;\n",
        "    font-style: italic;\n",
        "    margin-bottom: .1em;\n",
        "    margin-top: 0.1em;\n",
        "    display: block;\n",
        "}\n",
        "\n",
        ".text_cell_render h6 {\n",
        "    font-weight: 300;\n",
        "    font-size: 10pt;\n",
        "    color: grey;\n",
        "    margin-bottom: 1px;\n",
        "    margin-top: 1px;\n",
        "}\n",
        "div.cell.code_cell {  /* Group area containing both code and output */\n",
        "background-color: rgba(171,165,131,0.3); \n",
        "border-radius: 10px; /* rounded borders */\n",
        "padding: 1em;\n",
        "}\n",
        "\n",
        "</style>\n",
        "\n",
        "<script type=\"text/x-mathjax-config\">\n",
        "    MathJax.Hub.Config({\n",
        "                        TeX: {\n",
        "                           extensions: [\"AMSmath.js\"],\n",
        "                           Macros: {N : \"\\\\mathbb{N}\"}\n",
        "                           },\n",
        "                tex2jax: {\n",
        "                    inlineMath: [ ['$','$'], [\"\\\\(\",\"\\\\)\"] ],\n",
        "                    displayMath: [ ['$$','$$'], [\"\\\\[\",\"\\\\]\"] ]\n",
        "                },\n",
        "                displayAlign: 'center', // Change this to 'center' to center equations.\n",
        "                \"HTML-CSS\": {\n",
        "                    styles: {'.MathJax_Display': {margin: \"40em 40em 40em 40em\",line-height : '200%', border: '1px solid ##CC0000' } },\n",
        "                    linebreaks: {'automatic': 'true'}\n",
        "                }\n",
        "        });\n",
        "</script>\n"
       ],
       "metadata": {},
       "output_type": "pyout",
       "prompt_number": 104,
       "text": [
        "<IPython.core.display.HTML at 0x101ddc8d0>"
       ]
      }
     ],
     "prompt_number": 104
    },
    {
     "cell_type": "markdown",
     "metadata": {},
     "source": [
      "### Other packages\n",
      "Besides numpy and matplotlib, there are many other useful Python packages for scientific computing. Here is a short list:  \n",
      "\n",
      "- [scipy](http://www.scipy.org/) - optimization, ODEs, sparse linear algebra, etc.\n",
      "- [sympy](http://sympy.org/) - symbolic computation\n",
      "- [mpi4py](http://mpi4py.scipy.org/) - parallel computing\n",
      "- [petsc4py](http://code.google.com/p/petsc4py/), [pytrilinos](http://trilinos.sandia.gov/packages/pytrilinos/) - Python bindings for the \"big 2\" parallel scientific libraries\n",
      "- [pyCUDA](http://mathema.tician.de/software/pycuda), [pyOpenCL](http://mathema.tician.de/software/pyopencl) - GPGPU computing\n",
      "- [FENiCS](http://fenicsproject.org/), [FiPy](http://www.ctcms.nist.gov/fipy/), [PyClaw](http://numerics.kaust.edu.sa/pyclaw/) - solve complicated PDEs with very sophisticated numerical methods\n",
      "- [networkX](http://networkx.github.com/), [pygraphviz](http://networkx.lanl.gov/pygraphviz/) - graphs"
     ]
    },
    {
     "cell_type": "markdown",
     "metadata": {},
     "source": [
      "## References:\n",
      "\n",
      "#### Numpy:\n",
      "\n",
      "- [Numpy tutorial](http://www.scipy.org/Tentative_NumPy_Tutorial) \n",
      "- [Numpy tutorial video](http://showmedo.com/videotutorials/series?name=i9KuJuNcG) \n",
      "- [NumPy: lock 'n load](http://mentat.za.net/numpy/intro/intro.html)\n",
      "- [Numpy for Matlab users](http://www.scipy.org/NumPy_for_Matlab_Users)\n",
      "- [Hans Petter Langtangen book](http://link.springer.com/book/10.1007/978-3-642-02475-7/page/1)\n",
      "\n",
      "\n",
      "#### Matplotlib\n",
      "\n",
      "- [Nicolas P. Rougier matplotlib tutorial](http://www.loria.fr/~rougier/teaching/matplotlib/)\n",
      "- [Pyplot tutorial](http://matplotlib.org/users/pyplot_tutorial.html)\n",
      "- [Matplotlib gallery](http://matplotlib.org/gallery.html)\n",
      "\n",
      "\n",
      "#### More general\n",
      "\n",
      "- [General Python tutorial](http://docs.python.org/tutorial/)\n",
      "- [Dive Into Python](http://diveintopython.org/)"
     ]
    }
   ],
   "metadata": {}
  }
 ]
}